{
  "nbformat": 4,
  "nbformat_minor": 0,
  "metadata": {
    "colab": {
      "name": "Copy of Data Pre-Processing-Putrini.ipynb",
      "provenance": [],
      "collapsed_sections": [],
      "toc_visible": true
    },
    "kernelspec": {
      "name": "python3",
      "display_name": "Python 3"
    },
    "language_info": {
      "name": "python"
    }
  },
  "cells": [
    {
      "cell_type": "code",
      "execution_count": null,
      "metadata": {
        "colab": {
          "base_uri": "https://localhost:8080/"
        },
        "id": "VqChAKj_KkfR",
        "outputId": "dac7d0ea-9008-46ee-8680-1b247cf5b1b2"
      },
      "outputs": [
        {
          "output_type": "stream",
          "name": "stdout",
          "text": [
            "Drive already mounted at /content/gdrive; to attempt to forcibly remount, call drive.mount(\"/content/gdrive\", force_remount=True).\n"
          ]
        }
      ],
      "source": [
        "  from google.colab import drive\n",
        "drive.mount('/content/gdrive')"
      ]
    },
    {
      "cell_type": "markdown",
      "source": [
        "# Import Libraries"
      ],
      "metadata": {
        "id": "TyteU9xSKsr_"
      }
    },
    {
      "cell_type": "code",
      "source": [
        "import numpy as np\n",
        "import pandas as pd\n",
        "import matplotlib.pyplot as plt\n",
        "import seaborn as sns"
      ],
      "metadata": {
        "id": "YhE7LS28KlPc"
      },
      "execution_count": null,
      "outputs": []
    },
    {
      "cell_type": "markdown",
      "source": [
        "# Load Dataset"
      ],
      "metadata": {
        "id": "t1nnPvk0KyYW"
      }
    },
    {
      "cell_type": "code",
      "source": [
        "# change the path if necessary\n",
        "df = pd.read_csv(\"/content/online_shoppers_intention.csv\")"
      ],
      "metadata": {
        "id": "P9OP2PB2KwZO"
      },
      "execution_count": null,
      "outputs": []
    },
    {
      "cell_type": "code",
      "source": [
        "# informasi general tentang dataframe\n",
        "df.info()"
      ],
      "metadata": {
        "colab": {
          "base_uri": "https://localhost:8080/"
        },
        "id": "nX0MS9s_K-oJ",
        "outputId": "50f0ab68-54bb-4c24-cec7-d13e4f986434"
      },
      "execution_count": null,
      "outputs": [
        {
          "output_type": "stream",
          "name": "stdout",
          "text": [
            "<class 'pandas.core.frame.DataFrame'>\n",
            "RangeIndex: 12330 entries, 0 to 12329\n",
            "Data columns (total 18 columns):\n",
            " #   Column                   Non-Null Count  Dtype  \n",
            "---  ------                   --------------  -----  \n",
            " 0   Administrative           12330 non-null  int64  \n",
            " 1   Administrative_Duration  12330 non-null  float64\n",
            " 2   Informational            12330 non-null  int64  \n",
            " 3   Informational_Duration   12330 non-null  float64\n",
            " 4   ProductRelated           12330 non-null  int64  \n",
            " 5   ProductRelated_Duration  12330 non-null  float64\n",
            " 6   BounceRates              12330 non-null  float64\n",
            " 7   ExitRates                12330 non-null  float64\n",
            " 8   PageValues               12330 non-null  float64\n",
            " 9   SpecialDay               12330 non-null  float64\n",
            " 10  Month                    12330 non-null  object \n",
            " 11  OperatingSystems         12330 non-null  int64  \n",
            " 12  Browser                  12330 non-null  int64  \n",
            " 13  Region                   12330 non-null  int64  \n",
            " 14  TrafficType              12330 non-null  int64  \n",
            " 15  VisitorType              12330 non-null  object \n",
            " 16  Weekend                  12330 non-null  bool   \n",
            " 17  Revenue                  12330 non-null  bool   \n",
            "dtypes: bool(2), float64(7), int64(7), object(2)\n",
            "memory usage: 1.5+ MB\n"
          ]
        }
      ]
    },
    {
      "cell_type": "code",
      "source": [
        "from google.colab import drive\n",
        "drive.mount('/content/drive')"
      ],
      "metadata": {
        "id": "qu5tqTsbIE_D",
        "colab": {
          "base_uri": "https://localhost:8080/"
        },
        "outputId": "dbd79dbb-7b5b-4094-85b6-58802d997d88"
      },
      "execution_count": null,
      "outputs": [
        {
          "output_type": "stream",
          "name": "stdout",
          "text": [
            "Mounted at /content/drive\n"
          ]
        }
      ]
    },
    {
      "cell_type": "markdown",
      "source": [
        "Pengamatan:\n",
        "\n",
        "* Data terdiri dari 12330 baris dan 18 kolom\n",
        "* Semua kolom tidak memiliki null/missing values\n",
        "* tipe data untuk setiap kolom sudah sesuai\n",
        "* Also Dataset have bool(2), float64(7), int64(7), object(2)\n",
        "* Target Variable have bool values, so it is a binary classification problem"
      ],
      "metadata": {
        "id": "oi6uSJLvTDHl"
      }
    },
    {
      "cell_type": "markdown",
      "source": [
        "# Cuplikan Data"
      ],
      "metadata": {
        "id": "lSYLIvNYTP9U"
      }
    },
    {
      "cell_type": "code",
      "source": [
        "# run code ini beberapa kali\n",
        "df.sample(5)"
      ],
      "metadata": {
        "colab": {
          "base_uri": "https://localhost:8080/",
          "height": 270
        },
        "id": "PypUBUtsLA-8",
        "outputId": "c725b215-10df-4149-b35e-2a7b4f37e8fa"
      },
      "execution_count": null,
      "outputs": [
        {
          "output_type": "execute_result",
          "data": {
            "text/plain": [
              "       Administrative  Administrative_Duration  Informational  \\\n",
              "6930                4                62.000000              1   \n",
              "12066               0                 0.000000              0   \n",
              "8374                0                 0.000000              4   \n",
              "3764                4               318.666667              0   \n",
              "11101               0                 0.000000              0   \n",
              "\n",
              "       Informational_Duration  ProductRelated  ProductRelated_Duration  \\\n",
              "6930                     87.6              88              3634.585714   \n",
              "12066                     0.0              44              2588.154762   \n",
              "8374                    102.0              93              2835.417641   \n",
              "3764                      0.0              32              1205.583333   \n",
              "11101                     0.0              10               174.083333   \n",
              "\n",
              "       BounceRates  ExitRates  PageValues  SpecialDay Month  OperatingSystems  \\\n",
              "6930      0.005564   0.035702    1.435224         0.0   Oct                 2   \n",
              "12066     0.009091   0.027273    0.000000         0.0   Dec                 2   \n",
              "8374      0.007544   0.037316    0.000000         0.0   Dec                 2   \n",
              "3764      0.006452   0.010753   37.609355         0.0   May                 2   \n",
              "11101     0.060000   0.070000    0.000000         0.0   Nov                 2   \n",
              "\n",
              "       Browser  Region  TrafficType        VisitorType  Weekend  Revenue  \n",
              "6930         2       1            3  Returning_Visitor    False    False  \n",
              "12066        2       1            1  Returning_Visitor    False    False  \n",
              "8374         2       4            1  Returning_Visitor    False    False  \n",
              "3764         2       1            2  Returning_Visitor     True    False  \n",
              "11101        2       9            1  Returning_Visitor     True    False  "
            ],
            "text/html": [
              "\n",
              "  <div id=\"df-c858c49e-eb67-4ce7-b96b-9475cfad3128\">\n",
              "    <div class=\"colab-df-container\">\n",
              "      <div>\n",
              "<style scoped>\n",
              "    .dataframe tbody tr th:only-of-type {\n",
              "        vertical-align: middle;\n",
              "    }\n",
              "\n",
              "    .dataframe tbody tr th {\n",
              "        vertical-align: top;\n",
              "    }\n",
              "\n",
              "    .dataframe thead th {\n",
              "        text-align: right;\n",
              "    }\n",
              "</style>\n",
              "<table border=\"1\" class=\"dataframe\">\n",
              "  <thead>\n",
              "    <tr style=\"text-align: right;\">\n",
              "      <th></th>\n",
              "      <th>Administrative</th>\n",
              "      <th>Administrative_Duration</th>\n",
              "      <th>Informational</th>\n",
              "      <th>Informational_Duration</th>\n",
              "      <th>ProductRelated</th>\n",
              "      <th>ProductRelated_Duration</th>\n",
              "      <th>BounceRates</th>\n",
              "      <th>ExitRates</th>\n",
              "      <th>PageValues</th>\n",
              "      <th>SpecialDay</th>\n",
              "      <th>Month</th>\n",
              "      <th>OperatingSystems</th>\n",
              "      <th>Browser</th>\n",
              "      <th>Region</th>\n",
              "      <th>TrafficType</th>\n",
              "      <th>VisitorType</th>\n",
              "      <th>Weekend</th>\n",
              "      <th>Revenue</th>\n",
              "    </tr>\n",
              "  </thead>\n",
              "  <tbody>\n",
              "    <tr>\n",
              "      <th>6930</th>\n",
              "      <td>4</td>\n",
              "      <td>62.000000</td>\n",
              "      <td>1</td>\n",
              "      <td>87.6</td>\n",
              "      <td>88</td>\n",
              "      <td>3634.585714</td>\n",
              "      <td>0.005564</td>\n",
              "      <td>0.035702</td>\n",
              "      <td>1.435224</td>\n",
              "      <td>0.0</td>\n",
              "      <td>Oct</td>\n",
              "      <td>2</td>\n",
              "      <td>2</td>\n",
              "      <td>1</td>\n",
              "      <td>3</td>\n",
              "      <td>Returning_Visitor</td>\n",
              "      <td>False</td>\n",
              "      <td>False</td>\n",
              "    </tr>\n",
              "    <tr>\n",
              "      <th>12066</th>\n",
              "      <td>0</td>\n",
              "      <td>0.000000</td>\n",
              "      <td>0</td>\n",
              "      <td>0.0</td>\n",
              "      <td>44</td>\n",
              "      <td>2588.154762</td>\n",
              "      <td>0.009091</td>\n",
              "      <td>0.027273</td>\n",
              "      <td>0.000000</td>\n",
              "      <td>0.0</td>\n",
              "      <td>Dec</td>\n",
              "      <td>2</td>\n",
              "      <td>2</td>\n",
              "      <td>1</td>\n",
              "      <td>1</td>\n",
              "      <td>Returning_Visitor</td>\n",
              "      <td>False</td>\n",
              "      <td>False</td>\n",
              "    </tr>\n",
              "    <tr>\n",
              "      <th>8374</th>\n",
              "      <td>0</td>\n",
              "      <td>0.000000</td>\n",
              "      <td>4</td>\n",
              "      <td>102.0</td>\n",
              "      <td>93</td>\n",
              "      <td>2835.417641</td>\n",
              "      <td>0.007544</td>\n",
              "      <td>0.037316</td>\n",
              "      <td>0.000000</td>\n",
              "      <td>0.0</td>\n",
              "      <td>Dec</td>\n",
              "      <td>2</td>\n",
              "      <td>2</td>\n",
              "      <td>4</td>\n",
              "      <td>1</td>\n",
              "      <td>Returning_Visitor</td>\n",
              "      <td>False</td>\n",
              "      <td>False</td>\n",
              "    </tr>\n",
              "    <tr>\n",
              "      <th>3764</th>\n",
              "      <td>4</td>\n",
              "      <td>318.666667</td>\n",
              "      <td>0</td>\n",
              "      <td>0.0</td>\n",
              "      <td>32</td>\n",
              "      <td>1205.583333</td>\n",
              "      <td>0.006452</td>\n",
              "      <td>0.010753</td>\n",
              "      <td>37.609355</td>\n",
              "      <td>0.0</td>\n",
              "      <td>May</td>\n",
              "      <td>2</td>\n",
              "      <td>2</td>\n",
              "      <td>1</td>\n",
              "      <td>2</td>\n",
              "      <td>Returning_Visitor</td>\n",
              "      <td>True</td>\n",
              "      <td>False</td>\n",
              "    </tr>\n",
              "    <tr>\n",
              "      <th>11101</th>\n",
              "      <td>0</td>\n",
              "      <td>0.000000</td>\n",
              "      <td>0</td>\n",
              "      <td>0.0</td>\n",
              "      <td>10</td>\n",
              "      <td>174.083333</td>\n",
              "      <td>0.060000</td>\n",
              "      <td>0.070000</td>\n",
              "      <td>0.000000</td>\n",
              "      <td>0.0</td>\n",
              "      <td>Nov</td>\n",
              "      <td>2</td>\n",
              "      <td>2</td>\n",
              "      <td>9</td>\n",
              "      <td>1</td>\n",
              "      <td>Returning_Visitor</td>\n",
              "      <td>True</td>\n",
              "      <td>False</td>\n",
              "    </tr>\n",
              "  </tbody>\n",
              "</table>\n",
              "</div>\n",
              "      <button class=\"colab-df-convert\" onclick=\"convertToInteractive('df-c858c49e-eb67-4ce7-b96b-9475cfad3128')\"\n",
              "              title=\"Convert this dataframe to an interactive table.\"\n",
              "              style=\"display:none;\">\n",
              "        \n",
              "  <svg xmlns=\"http://www.w3.org/2000/svg\" height=\"24px\"viewBox=\"0 0 24 24\"\n",
              "       width=\"24px\">\n",
              "    <path d=\"M0 0h24v24H0V0z\" fill=\"none\"/>\n",
              "    <path d=\"M18.56 5.44l.94 2.06.94-2.06 2.06-.94-2.06-.94-.94-2.06-.94 2.06-2.06.94zm-11 1L8.5 8.5l.94-2.06 2.06-.94-2.06-.94L8.5 2.5l-.94 2.06-2.06.94zm10 10l.94 2.06.94-2.06 2.06-.94-2.06-.94-.94-2.06-.94 2.06-2.06.94z\"/><path d=\"M17.41 7.96l-1.37-1.37c-.4-.4-.92-.59-1.43-.59-.52 0-1.04.2-1.43.59L10.3 9.45l-7.72 7.72c-.78.78-.78 2.05 0 2.83L4 21.41c.39.39.9.59 1.41.59.51 0 1.02-.2 1.41-.59l7.78-7.78 2.81-2.81c.8-.78.8-2.07 0-2.86zM5.41 20L4 18.59l7.72-7.72 1.47 1.35L5.41 20z\"/>\n",
              "  </svg>\n",
              "      </button>\n",
              "      \n",
              "  <style>\n",
              "    .colab-df-container {\n",
              "      display:flex;\n",
              "      flex-wrap:wrap;\n",
              "      gap: 12px;\n",
              "    }\n",
              "\n",
              "    .colab-df-convert {\n",
              "      background-color: #E8F0FE;\n",
              "      border: none;\n",
              "      border-radius: 50%;\n",
              "      cursor: pointer;\n",
              "      display: none;\n",
              "      fill: #1967D2;\n",
              "      height: 32px;\n",
              "      padding: 0 0 0 0;\n",
              "      width: 32px;\n",
              "    }\n",
              "\n",
              "    .colab-df-convert:hover {\n",
              "      background-color: #E2EBFA;\n",
              "      box-shadow: 0px 1px 2px rgba(60, 64, 67, 0.3), 0px 1px 3px 1px rgba(60, 64, 67, 0.15);\n",
              "      fill: #174EA6;\n",
              "    }\n",
              "\n",
              "    [theme=dark] .colab-df-convert {\n",
              "      background-color: #3B4455;\n",
              "      fill: #D2E3FC;\n",
              "    }\n",
              "\n",
              "    [theme=dark] .colab-df-convert:hover {\n",
              "      background-color: #434B5C;\n",
              "      box-shadow: 0px 1px 3px 1px rgba(0, 0, 0, 0.15);\n",
              "      filter: drop-shadow(0px 1px 2px rgba(0, 0, 0, 0.3));\n",
              "      fill: #FFFFFF;\n",
              "    }\n",
              "  </style>\n",
              "\n",
              "      <script>\n",
              "        const buttonEl =\n",
              "          document.querySelector('#df-c858c49e-eb67-4ce7-b96b-9475cfad3128 button.colab-df-convert');\n",
              "        buttonEl.style.display =\n",
              "          google.colab.kernel.accessAllowed ? 'block' : 'none';\n",
              "\n",
              "        async function convertToInteractive(key) {\n",
              "          const element = document.querySelector('#df-c858c49e-eb67-4ce7-b96b-9475cfad3128');\n",
              "          const dataTable =\n",
              "            await google.colab.kernel.invokeFunction('convertToInteractive',\n",
              "                                                     [key], {});\n",
              "          if (!dataTable) return;\n",
              "\n",
              "          const docLinkHtml = 'Like what you see? Visit the ' +\n",
              "            '<a target=\"_blank\" href=https://colab.research.google.com/notebooks/data_table.ipynb>data table notebook</a>'\n",
              "            + ' to learn more about interactive tables.';\n",
              "          element.innerHTML = '';\n",
              "          dataTable['output_type'] = 'display_data';\n",
              "          await google.colab.output.renderOutput(dataTable, element);\n",
              "          const docLink = document.createElement('div');\n",
              "          docLink.innerHTML = docLinkHtml;\n",
              "          element.appendChild(docLink);\n",
              "        }\n",
              "      </script>\n",
              "    </div>\n",
              "  </div>\n",
              "  "
            ]
          },
          "metadata": {},
          "execution_count": 11
        }
      ]
    },
    {
      "cell_type": "markdown",
      "source": [
        "Pengamatan\n",
        "\n",
        "* Tidak ada anomali pada setiap entri (kolom sudah sesuai)"
      ],
      "metadata": {
        "id": "a3DKwI2BTi2m"
      }
    },
    {
      "cell_type": "markdown",
      "source": [
        "# Statistical Summary"
      ],
      "metadata": {
        "id": "s-qcO5KtTqYt"
      }
    },
    {
      "cell_type": "code",
      "source": [
        "# pengelompokan kolom berdasarkan jenisnya\n",
        "nums = ['Administrative',\t'Administrative_Duration', 'Informational',\t'Informational_Duration',\t'ProductRelated',\t'ProductRelated_Duration',\t'BounceRates',\t'ExitRates',\t'PageValues',\t'SpecialDay', 'OperatingSystems',\t'Browser',\t'Region',\t'TrafficType']\n",
        "cats = ['Month', 'VisitorType', 'Weekend', 'Revenue']"
      ],
      "metadata": {
        "id": "BnRyi_-MTTtS"
      },
      "execution_count": null,
      "outputs": []
    },
    {
      "cell_type": "code",
      "source": [
        "# ringkasan statistik dari kolom numerik\n",
        "df[nums].describe()"
      ],
      "metadata": {
        "colab": {
          "base_uri": "https://localhost:8080/",
          "height": 364
        },
        "id": "5Pvt3xoUTwiZ",
        "outputId": "17b41007-5070-4df8-eb44-d8f6f3a49c6a"
      },
      "execution_count": null,
      "outputs": [
        {
          "output_type": "execute_result",
          "data": {
            "text/plain": [
              "       Administrative  Administrative_Duration  Informational  \\\n",
              "count    12330.000000             12330.000000   12330.000000   \n",
              "mean         2.315166                80.818611       0.503569   \n",
              "std          3.321784               176.779107       1.270156   \n",
              "min          0.000000                 0.000000       0.000000   \n",
              "25%          0.000000                 0.000000       0.000000   \n",
              "50%          1.000000                 7.500000       0.000000   \n",
              "75%          4.000000                93.256250       0.000000   \n",
              "max         27.000000              3398.750000      24.000000   \n",
              "\n",
              "       Informational_Duration  ProductRelated  ProductRelated_Duration  \\\n",
              "count            12330.000000    12330.000000             12330.000000   \n",
              "mean                34.472398       31.731468              1194.746220   \n",
              "std                140.749294       44.475503              1913.669288   \n",
              "min                  0.000000        0.000000                 0.000000   \n",
              "25%                  0.000000        7.000000               184.137500   \n",
              "50%                  0.000000       18.000000               598.936905   \n",
              "75%                  0.000000       38.000000              1464.157214   \n",
              "max               2549.375000      705.000000             63973.522230   \n",
              "\n",
              "        BounceRates     ExitRates    PageValues    SpecialDay  \\\n",
              "count  12330.000000  12330.000000  12330.000000  12330.000000   \n",
              "mean       0.022191      0.043073      5.889258      0.061427   \n",
              "std        0.048488      0.048597     18.568437      0.198917   \n",
              "min        0.000000      0.000000      0.000000      0.000000   \n",
              "25%        0.000000      0.014286      0.000000      0.000000   \n",
              "50%        0.003112      0.025156      0.000000      0.000000   \n",
              "75%        0.016813      0.050000      0.000000      0.000000   \n",
              "max        0.200000      0.200000    361.763742      1.000000   \n",
              "\n",
              "       OperatingSystems       Browser        Region   TrafficType  \n",
              "count      12330.000000  12330.000000  12330.000000  12330.000000  \n",
              "mean           2.124006      2.357097      3.147364      4.069586  \n",
              "std            0.911325      1.717277      2.401591      4.025169  \n",
              "min            1.000000      1.000000      1.000000      1.000000  \n",
              "25%            2.000000      2.000000      1.000000      2.000000  \n",
              "50%            2.000000      2.000000      3.000000      2.000000  \n",
              "75%            3.000000      2.000000      4.000000      4.000000  \n",
              "max            8.000000     13.000000      9.000000     20.000000  "
            ],
            "text/html": [
              "\n",
              "  <div id=\"df-a1c7a4cc-605a-4bf3-bcf6-dfce4614b123\">\n",
              "    <div class=\"colab-df-container\">\n",
              "      <div>\n",
              "<style scoped>\n",
              "    .dataframe tbody tr th:only-of-type {\n",
              "        vertical-align: middle;\n",
              "    }\n",
              "\n",
              "    .dataframe tbody tr th {\n",
              "        vertical-align: top;\n",
              "    }\n",
              "\n",
              "    .dataframe thead th {\n",
              "        text-align: right;\n",
              "    }\n",
              "</style>\n",
              "<table border=\"1\" class=\"dataframe\">\n",
              "  <thead>\n",
              "    <tr style=\"text-align: right;\">\n",
              "      <th></th>\n",
              "      <th>Administrative</th>\n",
              "      <th>Administrative_Duration</th>\n",
              "      <th>Informational</th>\n",
              "      <th>Informational_Duration</th>\n",
              "      <th>ProductRelated</th>\n",
              "      <th>ProductRelated_Duration</th>\n",
              "      <th>BounceRates</th>\n",
              "      <th>ExitRates</th>\n",
              "      <th>PageValues</th>\n",
              "      <th>SpecialDay</th>\n",
              "      <th>OperatingSystems</th>\n",
              "      <th>Browser</th>\n",
              "      <th>Region</th>\n",
              "      <th>TrafficType</th>\n",
              "    </tr>\n",
              "  </thead>\n",
              "  <tbody>\n",
              "    <tr>\n",
              "      <th>count</th>\n",
              "      <td>12330.000000</td>\n",
              "      <td>12330.000000</td>\n",
              "      <td>12330.000000</td>\n",
              "      <td>12330.000000</td>\n",
              "      <td>12330.000000</td>\n",
              "      <td>12330.000000</td>\n",
              "      <td>12330.000000</td>\n",
              "      <td>12330.000000</td>\n",
              "      <td>12330.000000</td>\n",
              "      <td>12330.000000</td>\n",
              "      <td>12330.000000</td>\n",
              "      <td>12330.000000</td>\n",
              "      <td>12330.000000</td>\n",
              "      <td>12330.000000</td>\n",
              "    </tr>\n",
              "    <tr>\n",
              "      <th>mean</th>\n",
              "      <td>2.315166</td>\n",
              "      <td>80.818611</td>\n",
              "      <td>0.503569</td>\n",
              "      <td>34.472398</td>\n",
              "      <td>31.731468</td>\n",
              "      <td>1194.746220</td>\n",
              "      <td>0.022191</td>\n",
              "      <td>0.043073</td>\n",
              "      <td>5.889258</td>\n",
              "      <td>0.061427</td>\n",
              "      <td>2.124006</td>\n",
              "      <td>2.357097</td>\n",
              "      <td>3.147364</td>\n",
              "      <td>4.069586</td>\n",
              "    </tr>\n",
              "    <tr>\n",
              "      <th>std</th>\n",
              "      <td>3.321784</td>\n",
              "      <td>176.779107</td>\n",
              "      <td>1.270156</td>\n",
              "      <td>140.749294</td>\n",
              "      <td>44.475503</td>\n",
              "      <td>1913.669288</td>\n",
              "      <td>0.048488</td>\n",
              "      <td>0.048597</td>\n",
              "      <td>18.568437</td>\n",
              "      <td>0.198917</td>\n",
              "      <td>0.911325</td>\n",
              "      <td>1.717277</td>\n",
              "      <td>2.401591</td>\n",
              "      <td>4.025169</td>\n",
              "    </tr>\n",
              "    <tr>\n",
              "      <th>min</th>\n",
              "      <td>0.000000</td>\n",
              "      <td>0.000000</td>\n",
              "      <td>0.000000</td>\n",
              "      <td>0.000000</td>\n",
              "      <td>0.000000</td>\n",
              "      <td>0.000000</td>\n",
              "      <td>0.000000</td>\n",
              "      <td>0.000000</td>\n",
              "      <td>0.000000</td>\n",
              "      <td>0.000000</td>\n",
              "      <td>1.000000</td>\n",
              "      <td>1.000000</td>\n",
              "      <td>1.000000</td>\n",
              "      <td>1.000000</td>\n",
              "    </tr>\n",
              "    <tr>\n",
              "      <th>25%</th>\n",
              "      <td>0.000000</td>\n",
              "      <td>0.000000</td>\n",
              "      <td>0.000000</td>\n",
              "      <td>0.000000</td>\n",
              "      <td>7.000000</td>\n",
              "      <td>184.137500</td>\n",
              "      <td>0.000000</td>\n",
              "      <td>0.014286</td>\n",
              "      <td>0.000000</td>\n",
              "      <td>0.000000</td>\n",
              "      <td>2.000000</td>\n",
              "      <td>2.000000</td>\n",
              "      <td>1.000000</td>\n",
              "      <td>2.000000</td>\n",
              "    </tr>\n",
              "    <tr>\n",
              "      <th>50%</th>\n",
              "      <td>1.000000</td>\n",
              "      <td>7.500000</td>\n",
              "      <td>0.000000</td>\n",
              "      <td>0.000000</td>\n",
              "      <td>18.000000</td>\n",
              "      <td>598.936905</td>\n",
              "      <td>0.003112</td>\n",
              "      <td>0.025156</td>\n",
              "      <td>0.000000</td>\n",
              "      <td>0.000000</td>\n",
              "      <td>2.000000</td>\n",
              "      <td>2.000000</td>\n",
              "      <td>3.000000</td>\n",
              "      <td>2.000000</td>\n",
              "    </tr>\n",
              "    <tr>\n",
              "      <th>75%</th>\n",
              "      <td>4.000000</td>\n",
              "      <td>93.256250</td>\n",
              "      <td>0.000000</td>\n",
              "      <td>0.000000</td>\n",
              "      <td>38.000000</td>\n",
              "      <td>1464.157214</td>\n",
              "      <td>0.016813</td>\n",
              "      <td>0.050000</td>\n",
              "      <td>0.000000</td>\n",
              "      <td>0.000000</td>\n",
              "      <td>3.000000</td>\n",
              "      <td>2.000000</td>\n",
              "      <td>4.000000</td>\n",
              "      <td>4.000000</td>\n",
              "    </tr>\n",
              "    <tr>\n",
              "      <th>max</th>\n",
              "      <td>27.000000</td>\n",
              "      <td>3398.750000</td>\n",
              "      <td>24.000000</td>\n",
              "      <td>2549.375000</td>\n",
              "      <td>705.000000</td>\n",
              "      <td>63973.522230</td>\n",
              "      <td>0.200000</td>\n",
              "      <td>0.200000</td>\n",
              "      <td>361.763742</td>\n",
              "      <td>1.000000</td>\n",
              "      <td>8.000000</td>\n",
              "      <td>13.000000</td>\n",
              "      <td>9.000000</td>\n",
              "      <td>20.000000</td>\n",
              "    </tr>\n",
              "  </tbody>\n",
              "</table>\n",
              "</div>\n",
              "      <button class=\"colab-df-convert\" onclick=\"convertToInteractive('df-a1c7a4cc-605a-4bf3-bcf6-dfce4614b123')\"\n",
              "              title=\"Convert this dataframe to an interactive table.\"\n",
              "              style=\"display:none;\">\n",
              "        \n",
              "  <svg xmlns=\"http://www.w3.org/2000/svg\" height=\"24px\"viewBox=\"0 0 24 24\"\n",
              "       width=\"24px\">\n",
              "    <path d=\"M0 0h24v24H0V0z\" fill=\"none\"/>\n",
              "    <path d=\"M18.56 5.44l.94 2.06.94-2.06 2.06-.94-2.06-.94-.94-2.06-.94 2.06-2.06.94zm-11 1L8.5 8.5l.94-2.06 2.06-.94-2.06-.94L8.5 2.5l-.94 2.06-2.06.94zm10 10l.94 2.06.94-2.06 2.06-.94-2.06-.94-.94-2.06-.94 2.06-2.06.94z\"/><path d=\"M17.41 7.96l-1.37-1.37c-.4-.4-.92-.59-1.43-.59-.52 0-1.04.2-1.43.59L10.3 9.45l-7.72 7.72c-.78.78-.78 2.05 0 2.83L4 21.41c.39.39.9.59 1.41.59.51 0 1.02-.2 1.41-.59l7.78-7.78 2.81-2.81c.8-.78.8-2.07 0-2.86zM5.41 20L4 18.59l7.72-7.72 1.47 1.35L5.41 20z\"/>\n",
              "  </svg>\n",
              "      </button>\n",
              "      \n",
              "  <style>\n",
              "    .colab-df-container {\n",
              "      display:flex;\n",
              "      flex-wrap:wrap;\n",
              "      gap: 12px;\n",
              "    }\n",
              "\n",
              "    .colab-df-convert {\n",
              "      background-color: #E8F0FE;\n",
              "      border: none;\n",
              "      border-radius: 50%;\n",
              "      cursor: pointer;\n",
              "      display: none;\n",
              "      fill: #1967D2;\n",
              "      height: 32px;\n",
              "      padding: 0 0 0 0;\n",
              "      width: 32px;\n",
              "    }\n",
              "\n",
              "    .colab-df-convert:hover {\n",
              "      background-color: #E2EBFA;\n",
              "      box-shadow: 0px 1px 2px rgba(60, 64, 67, 0.3), 0px 1px 3px 1px rgba(60, 64, 67, 0.15);\n",
              "      fill: #174EA6;\n",
              "    }\n",
              "\n",
              "    [theme=dark] .colab-df-convert {\n",
              "      background-color: #3B4455;\n",
              "      fill: #D2E3FC;\n",
              "    }\n",
              "\n",
              "    [theme=dark] .colab-df-convert:hover {\n",
              "      background-color: #434B5C;\n",
              "      box-shadow: 0px 1px 3px 1px rgba(0, 0, 0, 0.15);\n",
              "      filter: drop-shadow(0px 1px 2px rgba(0, 0, 0, 0.3));\n",
              "      fill: #FFFFFF;\n",
              "    }\n",
              "  </style>\n",
              "\n",
              "      <script>\n",
              "        const buttonEl =\n",
              "          document.querySelector('#df-a1c7a4cc-605a-4bf3-bcf6-dfce4614b123 button.colab-df-convert');\n",
              "        buttonEl.style.display =\n",
              "          google.colab.kernel.accessAllowed ? 'block' : 'none';\n",
              "\n",
              "        async function convertToInteractive(key) {\n",
              "          const element = document.querySelector('#df-a1c7a4cc-605a-4bf3-bcf6-dfce4614b123');\n",
              "          const dataTable =\n",
              "            await google.colab.kernel.invokeFunction('convertToInteractive',\n",
              "                                                     [key], {});\n",
              "          if (!dataTable) return;\n",
              "\n",
              "          const docLinkHtml = 'Like what you see? Visit the ' +\n",
              "            '<a target=\"_blank\" href=https://colab.research.google.com/notebooks/data_table.ipynb>data table notebook</a>'\n",
              "            + ' to learn more about interactive tables.';\n",
              "          element.innerHTML = '';\n",
              "          dataTable['output_type'] = 'display_data';\n",
              "          await google.colab.output.renderOutput(dataTable, element);\n",
              "          const docLink = document.createElement('div');\n",
              "          docLink.innerHTML = docLinkHtml;\n",
              "          element.appendChild(docLink);\n",
              "        }\n",
              "      </script>\n",
              "    </div>\n",
              "  </div>\n",
              "  "
            ]
          },
          "metadata": {},
          "execution_count": 13
        }
      ]
    },
    {
      "cell_type": "markdown",
      "source": [
        "Insight berdasarkan descriptive statistics kolom numerik:\\\n",
        "1. Kolom `Administrative_Duration`, `Informational_Duration`, `ProductRelated`, `ProductRelated_Duration`, `PageValues`, `TrafficType` memiliki jarak antara mean dan median terlalu besar sehingga memiliki kemungkinan terdapat outlier dan distribusi skew ke kanan.\n",
        "2. Kolom `OperatingSystems`,\t`Browser`,\t`Region`,\t`TrafficType` bernilai boolean/binary"
      ],
      "metadata": {
        "id": "ALMQ0hnKT9jS"
      }
    },
    {
      "cell_type": "code",
      "source": [
        "# categorical columns \n",
        "df[cats].describe()"
      ],
      "metadata": {
        "colab": {
          "base_uri": "https://localhost:8080/",
          "height": 175
        },
        "id": "VVMFwDKjT7DR",
        "outputId": "43624bd6-918e-4bb1-bb88-969dbdb1885b"
      },
      "execution_count": null,
      "outputs": [
        {
          "output_type": "execute_result",
          "data": {
            "text/plain": [
              "        Month        VisitorType Weekend Revenue\n",
              "count   12330              12330   12330   12330\n",
              "unique     10                  3       2       2\n",
              "top       May  Returning_Visitor   False   False\n",
              "freq     3364              10551    9462   10422"
            ],
            "text/html": [
              "\n",
              "  <div id=\"df-e21f7440-866f-491d-9bc0-94b3dcc44a67\">\n",
              "    <div class=\"colab-df-container\">\n",
              "      <div>\n",
              "<style scoped>\n",
              "    .dataframe tbody tr th:only-of-type {\n",
              "        vertical-align: middle;\n",
              "    }\n",
              "\n",
              "    .dataframe tbody tr th {\n",
              "        vertical-align: top;\n",
              "    }\n",
              "\n",
              "    .dataframe thead th {\n",
              "        text-align: right;\n",
              "    }\n",
              "</style>\n",
              "<table border=\"1\" class=\"dataframe\">\n",
              "  <thead>\n",
              "    <tr style=\"text-align: right;\">\n",
              "      <th></th>\n",
              "      <th>Month</th>\n",
              "      <th>VisitorType</th>\n",
              "      <th>Weekend</th>\n",
              "      <th>Revenue</th>\n",
              "    </tr>\n",
              "  </thead>\n",
              "  <tbody>\n",
              "    <tr>\n",
              "      <th>count</th>\n",
              "      <td>12330</td>\n",
              "      <td>12330</td>\n",
              "      <td>12330</td>\n",
              "      <td>12330</td>\n",
              "    </tr>\n",
              "    <tr>\n",
              "      <th>unique</th>\n",
              "      <td>10</td>\n",
              "      <td>3</td>\n",
              "      <td>2</td>\n",
              "      <td>2</td>\n",
              "    </tr>\n",
              "    <tr>\n",
              "      <th>top</th>\n",
              "      <td>May</td>\n",
              "      <td>Returning_Visitor</td>\n",
              "      <td>False</td>\n",
              "      <td>False</td>\n",
              "    </tr>\n",
              "    <tr>\n",
              "      <th>freq</th>\n",
              "      <td>3364</td>\n",
              "      <td>10551</td>\n",
              "      <td>9462</td>\n",
              "      <td>10422</td>\n",
              "    </tr>\n",
              "  </tbody>\n",
              "</table>\n",
              "</div>\n",
              "      <button class=\"colab-df-convert\" onclick=\"convertToInteractive('df-e21f7440-866f-491d-9bc0-94b3dcc44a67')\"\n",
              "              title=\"Convert this dataframe to an interactive table.\"\n",
              "              style=\"display:none;\">\n",
              "        \n",
              "  <svg xmlns=\"http://www.w3.org/2000/svg\" height=\"24px\"viewBox=\"0 0 24 24\"\n",
              "       width=\"24px\">\n",
              "    <path d=\"M0 0h24v24H0V0z\" fill=\"none\"/>\n",
              "    <path d=\"M18.56 5.44l.94 2.06.94-2.06 2.06-.94-2.06-.94-.94-2.06-.94 2.06-2.06.94zm-11 1L8.5 8.5l.94-2.06 2.06-.94-2.06-.94L8.5 2.5l-.94 2.06-2.06.94zm10 10l.94 2.06.94-2.06 2.06-.94-2.06-.94-.94-2.06-.94 2.06-2.06.94z\"/><path d=\"M17.41 7.96l-1.37-1.37c-.4-.4-.92-.59-1.43-.59-.52 0-1.04.2-1.43.59L10.3 9.45l-7.72 7.72c-.78.78-.78 2.05 0 2.83L4 21.41c.39.39.9.59 1.41.59.51 0 1.02-.2 1.41-.59l7.78-7.78 2.81-2.81c.8-.78.8-2.07 0-2.86zM5.41 20L4 18.59l7.72-7.72 1.47 1.35L5.41 20z\"/>\n",
              "  </svg>\n",
              "      </button>\n",
              "      \n",
              "  <style>\n",
              "    .colab-df-container {\n",
              "      display:flex;\n",
              "      flex-wrap:wrap;\n",
              "      gap: 12px;\n",
              "    }\n",
              "\n",
              "    .colab-df-convert {\n",
              "      background-color: #E8F0FE;\n",
              "      border: none;\n",
              "      border-radius: 50%;\n",
              "      cursor: pointer;\n",
              "      display: none;\n",
              "      fill: #1967D2;\n",
              "      height: 32px;\n",
              "      padding: 0 0 0 0;\n",
              "      width: 32px;\n",
              "    }\n",
              "\n",
              "    .colab-df-convert:hover {\n",
              "      background-color: #E2EBFA;\n",
              "      box-shadow: 0px 1px 2px rgba(60, 64, 67, 0.3), 0px 1px 3px 1px rgba(60, 64, 67, 0.15);\n",
              "      fill: #174EA6;\n",
              "    }\n",
              "\n",
              "    [theme=dark] .colab-df-convert {\n",
              "      background-color: #3B4455;\n",
              "      fill: #D2E3FC;\n",
              "    }\n",
              "\n",
              "    [theme=dark] .colab-df-convert:hover {\n",
              "      background-color: #434B5C;\n",
              "      box-shadow: 0px 1px 3px 1px rgba(0, 0, 0, 0.15);\n",
              "      filter: drop-shadow(0px 1px 2px rgba(0, 0, 0, 0.3));\n",
              "      fill: #FFFFFF;\n",
              "    }\n",
              "  </style>\n",
              "\n",
              "      <script>\n",
              "        const buttonEl =\n",
              "          document.querySelector('#df-e21f7440-866f-491d-9bc0-94b3dcc44a67 button.colab-df-convert');\n",
              "        buttonEl.style.display =\n",
              "          google.colab.kernel.accessAllowed ? 'block' : 'none';\n",
              "\n",
              "        async function convertToInteractive(key) {\n",
              "          const element = document.querySelector('#df-e21f7440-866f-491d-9bc0-94b3dcc44a67');\n",
              "          const dataTable =\n",
              "            await google.colab.kernel.invokeFunction('convertToInteractive',\n",
              "                                                     [key], {});\n",
              "          if (!dataTable) return;\n",
              "\n",
              "          const docLinkHtml = 'Like what you see? Visit the ' +\n",
              "            '<a target=\"_blank\" href=https://colab.research.google.com/notebooks/data_table.ipynb>data table notebook</a>'\n",
              "            + ' to learn more about interactive tables.';\n",
              "          element.innerHTML = '';\n",
              "          dataTable['output_type'] = 'display_data';\n",
              "          await google.colab.output.renderOutput(dataTable, element);\n",
              "          const docLink = document.createElement('div');\n",
              "          docLink.innerHTML = docLinkHtml;\n",
              "          element.appendChild(docLink);\n",
              "        }\n",
              "      </script>\n",
              "    </div>\n",
              "  </div>\n",
              "  "
            ]
          },
          "metadata": {},
          "execution_count": 14
        }
      ]
    },
    {
      "cell_type": "markdown",
      "source": [
        "Insight descriptive statistics kolom kategorik:\n",
        "1. Pada kolom `VisitorType`, `Weekend`, `Revenue` terdapat ketimpangan frekuensi untuk nilai Returning_Visitor dan False (lebih dari 50% dari jumlah baris data).\n",
        "1. Kolom `Region` memiliki kardinalitas (jumlah unique values) yang cukup tinggi (10). Tampaknya kita perlu exclude fitur ini dari dataset untuk pemodelan."
      ],
      "metadata": {
        "id": "p3w4dEjaWXIj"
      }
    },
    {
      "cell_type": "markdown",
      "source": [
        "## 1A. Handle missing value"
      ],
      "metadata": {
        "id": "sSZ-zJEjlly1"
      }
    },
    {
      "cell_type": "code",
      "source": [
        "df.isnull().sum()"
      ],
      "metadata": {
        "colab": {
          "base_uri": "https://localhost:8080/"
        },
        "id": "8EOALy1wle1S",
        "outputId": "75945af0-984c-4579-bb44-a590e96a4f17"
      },
      "execution_count": null,
      "outputs": [
        {
          "output_type": "execute_result",
          "data": {
            "text/plain": [
              "Administrative             0\n",
              "Administrative_Duration    0\n",
              "Informational              0\n",
              "Informational_Duration     0\n",
              "ProductRelated             0\n",
              "ProductRelated_Duration    0\n",
              "BounceRates                0\n",
              "ExitRates                  0\n",
              "PageValues                 0\n",
              "SpecialDay                 0\n",
              "Month                      0\n",
              "OperatingSystems           0\n",
              "Browser                    0\n",
              "Region                     0\n",
              "TrafficType                0\n",
              "VisitorType                0\n",
              "Weekend                    0\n",
              "Revenue                    0\n",
              "dtype: int64"
            ]
          },
          "metadata": {},
          "execution_count": 15
        }
      ]
    },
    {
      "cell_type": "markdown",
      "source": [
        "Analisa : Tidak ditemukan adanya missing value"
      ],
      "metadata": {
        "id": "W-zHVmkdlwda"
      }
    },
    {
      "cell_type": "markdown",
      "source": [
        "## 1B. Handle duplicated data"
      ],
      "metadata": {
        "id": "5AqQgsMicnAt"
      }
    },
    {
      "cell_type": "code",
      "source": [
        "# cek jumlah duplicated rows\n",
        "# dari semua kolom\n",
        "df.duplicated().sum()"
      ],
      "metadata": {
        "colab": {
          "base_uri": "https://localhost:8080/"
        },
        "id": "qeON_6PVcgb0",
        "outputId": "6a81134e-a4bd-4ebb-d0b6-21d61357da1d"
      },
      "execution_count": null,
      "outputs": [
        {
          "output_type": "execute_result",
          "data": {
            "text/plain": [
              "125"
            ]
          },
          "metadata": {},
          "execution_count": 16
        }
      ]
    },
    {
      "cell_type": "code",
      "source": [
        "# drop duplicated rows\n",
        "print(f'Jumlah row duplicated sebelum dihapus {df.duplicated().sum()}')\n",
        "df.drop_duplicates(inplace=True) # note: default-nya keep='First' (tidak perlu ditulis)\n",
        "print(f'Jumlah row duplicated SETELAH dihapus {df.duplicated().sum()}')"
      ],
      "metadata": {
        "colab": {
          "base_uri": "https://localhost:8080/"
        },
        "id": "kpeMdbGGcp4E",
        "outputId": "8578a6d6-8985-47c7-fd54-256a20967df5"
      },
      "execution_count": null,
      "outputs": [
        {
          "output_type": "stream",
          "name": "stdout",
          "text": [
            "Jumlah row duplicated sebelum dihapus 125\n",
            "Jumlah row duplicated SETELAH dihapus 0\n"
          ]
        }
      ]
    },
    {
      "cell_type": "code",
      "source": [
        "df.describe()"
      ],
      "metadata": {
        "colab": {
          "base_uri": "https://localhost:8080/",
          "height": 364
        },
        "id": "JyvOeXL98LLe",
        "outputId": "8e037712-0404-4721-b64e-ea9cbae0abe3"
      },
      "execution_count": null,
      "outputs": [
        {
          "output_type": "execute_result",
          "data": {
            "text/plain": [
              "       Administrative  Administrative_Duration  Informational  \\\n",
              "count    12205.000000             12205.000000   12205.000000   \n",
              "mean         2.338878                81.646331       0.508726   \n",
              "std          3.330436               177.491845       1.275617   \n",
              "min          0.000000                 0.000000       0.000000   \n",
              "25%          0.000000                 0.000000       0.000000   \n",
              "50%          1.000000                 9.000000       0.000000   \n",
              "75%          4.000000                94.700000       0.000000   \n",
              "max         27.000000              3398.750000      24.000000   \n",
              "\n",
              "       Informational_Duration  ProductRelated  ProductRelated_Duration  \\\n",
              "count            12205.000000    12205.000000             12205.000000   \n",
              "mean                34.825454       32.045637              1206.982457   \n",
              "std                141.424807       44.593649              1919.601400   \n",
              "min                  0.000000        0.000000                 0.000000   \n",
              "25%                  0.000000        8.000000               193.000000   \n",
              "50%                  0.000000       18.000000               608.942857   \n",
              "75%                  0.000000       38.000000              1477.154762   \n",
              "max               2549.375000      705.000000             63973.522230   \n",
              "\n",
              "        BounceRates     ExitRates    PageValues    SpecialDay  \\\n",
              "count  12205.000000  12205.000000  12205.000000  12205.000000   \n",
              "mean       0.020370      0.041466      5.949574      0.061942   \n",
              "std        0.045255      0.046163     18.653671      0.199666   \n",
              "min        0.000000      0.000000      0.000000      0.000000   \n",
              "25%        0.000000      0.014231      0.000000      0.000000   \n",
              "50%        0.002899      0.025000      0.000000      0.000000   \n",
              "75%        0.016667      0.048529      0.000000      0.000000   \n",
              "max        0.200000      0.200000    361.763742      1.000000   \n",
              "\n",
              "       OperatingSystems       Browser        Region   TrafficType  \n",
              "count      12205.000000  12205.000000  12205.000000  12205.000000  \n",
              "mean           2.124211      2.357804      3.153298      4.073904  \n",
              "std            0.906823      1.710114      2.402340      4.016654  \n",
              "min            1.000000      1.000000      1.000000      1.000000  \n",
              "25%            2.000000      2.000000      1.000000      2.000000  \n",
              "50%            2.000000      2.000000      3.000000      2.000000  \n",
              "75%            3.000000      2.000000      4.000000      4.000000  \n",
              "max            8.000000     13.000000      9.000000     20.000000  "
            ],
            "text/html": [
              "\n",
              "  <div id=\"df-7ff5f156-fbb0-4f34-9a36-7c7628bc81e7\">\n",
              "    <div class=\"colab-df-container\">\n",
              "      <div>\n",
              "<style scoped>\n",
              "    .dataframe tbody tr th:only-of-type {\n",
              "        vertical-align: middle;\n",
              "    }\n",
              "\n",
              "    .dataframe tbody tr th {\n",
              "        vertical-align: top;\n",
              "    }\n",
              "\n",
              "    .dataframe thead th {\n",
              "        text-align: right;\n",
              "    }\n",
              "</style>\n",
              "<table border=\"1\" class=\"dataframe\">\n",
              "  <thead>\n",
              "    <tr style=\"text-align: right;\">\n",
              "      <th></th>\n",
              "      <th>Administrative</th>\n",
              "      <th>Administrative_Duration</th>\n",
              "      <th>Informational</th>\n",
              "      <th>Informational_Duration</th>\n",
              "      <th>ProductRelated</th>\n",
              "      <th>ProductRelated_Duration</th>\n",
              "      <th>BounceRates</th>\n",
              "      <th>ExitRates</th>\n",
              "      <th>PageValues</th>\n",
              "      <th>SpecialDay</th>\n",
              "      <th>OperatingSystems</th>\n",
              "      <th>Browser</th>\n",
              "      <th>Region</th>\n",
              "      <th>TrafficType</th>\n",
              "    </tr>\n",
              "  </thead>\n",
              "  <tbody>\n",
              "    <tr>\n",
              "      <th>count</th>\n",
              "      <td>12205.000000</td>\n",
              "      <td>12205.000000</td>\n",
              "      <td>12205.000000</td>\n",
              "      <td>12205.000000</td>\n",
              "      <td>12205.000000</td>\n",
              "      <td>12205.000000</td>\n",
              "      <td>12205.000000</td>\n",
              "      <td>12205.000000</td>\n",
              "      <td>12205.000000</td>\n",
              "      <td>12205.000000</td>\n",
              "      <td>12205.000000</td>\n",
              "      <td>12205.000000</td>\n",
              "      <td>12205.000000</td>\n",
              "      <td>12205.000000</td>\n",
              "    </tr>\n",
              "    <tr>\n",
              "      <th>mean</th>\n",
              "      <td>2.338878</td>\n",
              "      <td>81.646331</td>\n",
              "      <td>0.508726</td>\n",
              "      <td>34.825454</td>\n",
              "      <td>32.045637</td>\n",
              "      <td>1206.982457</td>\n",
              "      <td>0.020370</td>\n",
              "      <td>0.041466</td>\n",
              "      <td>5.949574</td>\n",
              "      <td>0.061942</td>\n",
              "      <td>2.124211</td>\n",
              "      <td>2.357804</td>\n",
              "      <td>3.153298</td>\n",
              "      <td>4.073904</td>\n",
              "    </tr>\n",
              "    <tr>\n",
              "      <th>std</th>\n",
              "      <td>3.330436</td>\n",
              "      <td>177.491845</td>\n",
              "      <td>1.275617</td>\n",
              "      <td>141.424807</td>\n",
              "      <td>44.593649</td>\n",
              "      <td>1919.601400</td>\n",
              "      <td>0.045255</td>\n",
              "      <td>0.046163</td>\n",
              "      <td>18.653671</td>\n",
              "      <td>0.199666</td>\n",
              "      <td>0.906823</td>\n",
              "      <td>1.710114</td>\n",
              "      <td>2.402340</td>\n",
              "      <td>4.016654</td>\n",
              "    </tr>\n",
              "    <tr>\n",
              "      <th>min</th>\n",
              "      <td>0.000000</td>\n",
              "      <td>0.000000</td>\n",
              "      <td>0.000000</td>\n",
              "      <td>0.000000</td>\n",
              "      <td>0.000000</td>\n",
              "      <td>0.000000</td>\n",
              "      <td>0.000000</td>\n",
              "      <td>0.000000</td>\n",
              "      <td>0.000000</td>\n",
              "      <td>0.000000</td>\n",
              "      <td>1.000000</td>\n",
              "      <td>1.000000</td>\n",
              "      <td>1.000000</td>\n",
              "      <td>1.000000</td>\n",
              "    </tr>\n",
              "    <tr>\n",
              "      <th>25%</th>\n",
              "      <td>0.000000</td>\n",
              "      <td>0.000000</td>\n",
              "      <td>0.000000</td>\n",
              "      <td>0.000000</td>\n",
              "      <td>8.000000</td>\n",
              "      <td>193.000000</td>\n",
              "      <td>0.000000</td>\n",
              "      <td>0.014231</td>\n",
              "      <td>0.000000</td>\n",
              "      <td>0.000000</td>\n",
              "      <td>2.000000</td>\n",
              "      <td>2.000000</td>\n",
              "      <td>1.000000</td>\n",
              "      <td>2.000000</td>\n",
              "    </tr>\n",
              "    <tr>\n",
              "      <th>50%</th>\n",
              "      <td>1.000000</td>\n",
              "      <td>9.000000</td>\n",
              "      <td>0.000000</td>\n",
              "      <td>0.000000</td>\n",
              "      <td>18.000000</td>\n",
              "      <td>608.942857</td>\n",
              "      <td>0.002899</td>\n",
              "      <td>0.025000</td>\n",
              "      <td>0.000000</td>\n",
              "      <td>0.000000</td>\n",
              "      <td>2.000000</td>\n",
              "      <td>2.000000</td>\n",
              "      <td>3.000000</td>\n",
              "      <td>2.000000</td>\n",
              "    </tr>\n",
              "    <tr>\n",
              "      <th>75%</th>\n",
              "      <td>4.000000</td>\n",
              "      <td>94.700000</td>\n",
              "      <td>0.000000</td>\n",
              "      <td>0.000000</td>\n",
              "      <td>38.000000</td>\n",
              "      <td>1477.154762</td>\n",
              "      <td>0.016667</td>\n",
              "      <td>0.048529</td>\n",
              "      <td>0.000000</td>\n",
              "      <td>0.000000</td>\n",
              "      <td>3.000000</td>\n",
              "      <td>2.000000</td>\n",
              "      <td>4.000000</td>\n",
              "      <td>4.000000</td>\n",
              "    </tr>\n",
              "    <tr>\n",
              "      <th>max</th>\n",
              "      <td>27.000000</td>\n",
              "      <td>3398.750000</td>\n",
              "      <td>24.000000</td>\n",
              "      <td>2549.375000</td>\n",
              "      <td>705.000000</td>\n",
              "      <td>63973.522230</td>\n",
              "      <td>0.200000</td>\n",
              "      <td>0.200000</td>\n",
              "      <td>361.763742</td>\n",
              "      <td>1.000000</td>\n",
              "      <td>8.000000</td>\n",
              "      <td>13.000000</td>\n",
              "      <td>9.000000</td>\n",
              "      <td>20.000000</td>\n",
              "    </tr>\n",
              "  </tbody>\n",
              "</table>\n",
              "</div>\n",
              "      <button class=\"colab-df-convert\" onclick=\"convertToInteractive('df-7ff5f156-fbb0-4f34-9a36-7c7628bc81e7')\"\n",
              "              title=\"Convert this dataframe to an interactive table.\"\n",
              "              style=\"display:none;\">\n",
              "        \n",
              "  <svg xmlns=\"http://www.w3.org/2000/svg\" height=\"24px\"viewBox=\"0 0 24 24\"\n",
              "       width=\"24px\">\n",
              "    <path d=\"M0 0h24v24H0V0z\" fill=\"none\"/>\n",
              "    <path d=\"M18.56 5.44l.94 2.06.94-2.06 2.06-.94-2.06-.94-.94-2.06-.94 2.06-2.06.94zm-11 1L8.5 8.5l.94-2.06 2.06-.94-2.06-.94L8.5 2.5l-.94 2.06-2.06.94zm10 10l.94 2.06.94-2.06 2.06-.94-2.06-.94-.94-2.06-.94 2.06-2.06.94z\"/><path d=\"M17.41 7.96l-1.37-1.37c-.4-.4-.92-.59-1.43-.59-.52 0-1.04.2-1.43.59L10.3 9.45l-7.72 7.72c-.78.78-.78 2.05 0 2.83L4 21.41c.39.39.9.59 1.41.59.51 0 1.02-.2 1.41-.59l7.78-7.78 2.81-2.81c.8-.78.8-2.07 0-2.86zM5.41 20L4 18.59l7.72-7.72 1.47 1.35L5.41 20z\"/>\n",
              "  </svg>\n",
              "      </button>\n",
              "      \n",
              "  <style>\n",
              "    .colab-df-container {\n",
              "      display:flex;\n",
              "      flex-wrap:wrap;\n",
              "      gap: 12px;\n",
              "    }\n",
              "\n",
              "    .colab-df-convert {\n",
              "      background-color: #E8F0FE;\n",
              "      border: none;\n",
              "      border-radius: 50%;\n",
              "      cursor: pointer;\n",
              "      display: none;\n",
              "      fill: #1967D2;\n",
              "      height: 32px;\n",
              "      padding: 0 0 0 0;\n",
              "      width: 32px;\n",
              "    }\n",
              "\n",
              "    .colab-df-convert:hover {\n",
              "      background-color: #E2EBFA;\n",
              "      box-shadow: 0px 1px 2px rgba(60, 64, 67, 0.3), 0px 1px 3px 1px rgba(60, 64, 67, 0.15);\n",
              "      fill: #174EA6;\n",
              "    }\n",
              "\n",
              "    [theme=dark] .colab-df-convert {\n",
              "      background-color: #3B4455;\n",
              "      fill: #D2E3FC;\n",
              "    }\n",
              "\n",
              "    [theme=dark] .colab-df-convert:hover {\n",
              "      background-color: #434B5C;\n",
              "      box-shadow: 0px 1px 3px 1px rgba(0, 0, 0, 0.15);\n",
              "      filter: drop-shadow(0px 1px 2px rgba(0, 0, 0, 0.3));\n",
              "      fill: #FFFFFF;\n",
              "    }\n",
              "  </style>\n",
              "\n",
              "      <script>\n",
              "        const buttonEl =\n",
              "          document.querySelector('#df-7ff5f156-fbb0-4f34-9a36-7c7628bc81e7 button.colab-df-convert');\n",
              "        buttonEl.style.display =\n",
              "          google.colab.kernel.accessAllowed ? 'block' : 'none';\n",
              "\n",
              "        async function convertToInteractive(key) {\n",
              "          const element = document.querySelector('#df-7ff5f156-fbb0-4f34-9a36-7c7628bc81e7');\n",
              "          const dataTable =\n",
              "            await google.colab.kernel.invokeFunction('convertToInteractive',\n",
              "                                                     [key], {});\n",
              "          if (!dataTable) return;\n",
              "\n",
              "          const docLinkHtml = 'Like what you see? Visit the ' +\n",
              "            '<a target=\"_blank\" href=https://colab.research.google.com/notebooks/data_table.ipynb>data table notebook</a>'\n",
              "            + ' to learn more about interactive tables.';\n",
              "          element.innerHTML = '';\n",
              "          dataTable['output_type'] = 'display_data';\n",
              "          await google.colab.output.renderOutput(dataTable, element);\n",
              "          const docLink = document.createElement('div');\n",
              "          docLink.innerHTML = docLinkHtml;\n",
              "          element.appendChild(docLink);\n",
              "        }\n",
              "      </script>\n",
              "    </div>\n",
              "  </div>\n",
              "  "
            ]
          },
          "metadata": {},
          "execution_count": 18
        }
      ]
    },
    {
      "cell_type": "markdown",
      "source": [
        "## 1C. Outliers Handling\n",
        "Kita akan menggunakan Z-score filtering (cenderung lebih konservatif)"
      ],
      "metadata": {
        "id": "fJ1k7MWh1Jog"
      }
    },
    {
      "cell_type": "code",
      "source": [
        "plt.figure(figsize=(15, 5))\n",
        "for i in range(0, len(nums)):\n",
        "    plt.subplot(3, 5, i+1)\n",
        "    sns.kdeplot(x=df[nums[i]], color='green')\n",
        "    plt.xlabel(nums[i])\n",
        "    plt.tight_layout()"
      ],
      "metadata": {
        "colab": {
          "base_uri": "https://localhost:8080/",
          "height": 369
        },
        "id": "tCgcSwhkyFnT",
        "outputId": "473dea3b-0049-42a0-92a1-3942a07337ff"
      },
      "execution_count": null,
      "outputs": [
        {
          "output_type": "display_data",
          "data": {
            "text/plain": [
              "<Figure size 1080x360 with 14 Axes>"
            ],
            "image/png": "[encoded data removed]"
          },
          "metadata": {
            "needs_background": "light"
          }
        }
      ]
    },
    {
      "cell_type": "markdown",
      "source": [
        "First we select the columns with contain outliers, than we BOXCOX method to remove outliers from that columns and replace that value to that columns too. Create a for loop to make this process easy."
      ],
      "metadata": {
        "id": "tO4RNNWQpjWm"
      }
    },
    {
      "cell_type": "code",
      "source": [
        "from scipy import stats\n",
        "\n",
        "# transform training data & save lambda value\n",
        "df_list = ['Administrative', 'Administrative_Duration', 'Informational', 'Informational_Duration', 'ProductRelated', \n",
        "           'ProductRelated_Duration', 'BounceRates', 'PageValues', 'SpecialDay', 'TrafficType']\n",
        "for col in df_list:\n",
        "    if df[col].dtypes == 'int64' or df[col].dtypes == 'float64':\n",
        "        posdata = df[col][df[col] > 0]\n",
        "        col_data, fitted_lambda = stats.boxcox(posdata)\n",
        "        \n",
        "  \n",
        "        # creating axes to draw plots\n",
        "        fig, ax = plt.subplots(1,2)\n",
        "\n",
        "\n",
        "        sns.distplot(col_data, hist = False, kde = True,\n",
        "                     kde_kws = {'shade': True, 'linewidth': 2}, \n",
        "                     label = \"Normal\", color =\"green\", ax = ax[0])\n",
        "        df.loc[df[col] > 0, col] = col_data\n",
        "        print('{} process is completed'.format(col))\n",
        "\n",
        "        plt.subplot(122)\n",
        "        sns.boxplot(col_data)\n",
        "        plt.show()"
      ],
      "metadata": {
        "colab": {
          "base_uri": "https://localhost:8080/",
          "height": 1000
        },
        "id": "A34hExlEnREG",
        "outputId": "00f3ce9d-78ed-4fa1-9999-3ff45a414e96"
      },
      "execution_count": null,
      "outputs": [
        {
          "output_type": "stream",
          "name": "stderr",
          "text": [
            "/usr/local/lib/python3.7/dist-packages/seaborn/distributions.py:2619: FutureWarning: `distplot` is a deprecated function and will be removed in a future version. Please adapt your code to use either `displot` (a figure-level function with similar flexibility) or `kdeplot` (an axes-level function for kernel density plots).\n",
            "  warnings.warn(msg, FutureWarning)\n",
            "/usr/local/lib/python3.7/dist-packages/seaborn/_decorators.py:43: FutureWarning: Pass the following variable as a keyword arg: x. From version 0.12, the only valid positional argument will be `data`, and passing other arguments without an explicit keyword will result in an error or misinterpretation.\n",
            "  FutureWarning\n"
          ]
        },
        {
          "output_type": "stream",
          "name": "stdout",
          "text": [
            "Administrative process is completed\n"
          ]
        },
        {
          "output_type": "display_data",
          "data": {
            "text/plain": [
              "<Figure size 432x288 with 2 Axes>"
            ],
            "image/png": "[encoded data removed]"
          },
          "metadata": {
            "needs_background": "light"
          }
        },
        {
          "output_type": "stream",
          "name": "stderr",
          "text": [
            "/usr/local/lib/python3.7/dist-packages/seaborn/distributions.py:2619: FutureWarning: `distplot` is a deprecated function and will be removed in a future version. Please adapt your code to use either `displot` (a figure-level function with similar flexibility) or `kdeplot` (an axes-level function for kernel density plots).\n",
            "  warnings.warn(msg, FutureWarning)\n",
            "/usr/local/lib/python3.7/dist-packages/seaborn/_decorators.py:43: FutureWarning: Pass the following variable as a keyword arg: x. From version 0.12, the only valid positional argument will be `data`, and passing other arguments without an explicit keyword will result in an error or misinterpretation.\n",
            "  FutureWarning\n"
          ]
        },
        {
          "output_type": "stream",
          "name": "stdout",
          "text": [
            "Administrative_Duration process is completed\n"
          ]
        },
        {
          "output_type": "display_data",
          "data": {
            "text/plain": [
              "<Figure size 432x288 with 2 Axes>"
            ],
            "image/png": "[encoded data removed]"
          },
          "metadata": {
            "needs_background": "light"
          }
        },
        {
          "output_type": "stream",
          "name": "stderr",
          "text": [
            "/usr/local/lib/python3.7/dist-packages/seaborn/distributions.py:2619: FutureWarning: `distplot` is a deprecated function and will be removed in a future version. Please adapt your code to use either `displot` (a figure-level function with similar flexibility) or `kdeplot` (an axes-level function for kernel density plots).\n",
            "  warnings.warn(msg, FutureWarning)\n",
            "/usr/local/lib/python3.7/dist-packages/seaborn/_decorators.py:43: FutureWarning: Pass the following variable as a keyword arg: x. From version 0.12, the only valid positional argument will be `data`, and passing other arguments without an explicit keyword will result in an error or misinterpretation.\n",
            "  FutureWarning\n"
          ]
        },
        {
          "output_type": "stream",
          "name": "stdout",
          "text": [
            "Informational process is completed\n"
          ]
        },
        {
          "output_type": "display_data",
          "data": {
            "text/plain": [
              "<Figure size 432x288 with 2 Axes>"
            ],
            "image/png": "[encoded data removed]"
          },
          "metadata": {
            "needs_background": "light"
          }
        },
        {
          "output_type": "stream",
          "name": "stderr",
          "text": [
            "/usr/local/lib/python3.7/dist-packages/seaborn/distributions.py:2619: FutureWarning: `distplot` is a deprecated function and will be removed in a future version. Please adapt your code to use either `displot` (a figure-level function with similar flexibility) or `kdeplot` (an axes-level function for kernel density plots).\n",
            "  warnings.warn(msg, FutureWarning)\n",
            "/usr/local/lib/python3.7/dist-packages/seaborn/_decorators.py:43: FutureWarning: Pass the following variable as a keyword arg: x. From version 0.12, the only valid positional argument will be `data`, and passing other arguments without an explicit keyword will result in an error or misinterpretation.\n",
            "  FutureWarning\n"
          ]
        },
        {
          "output_type": "stream",
          "name": "stdout",
          "text": [
            "Informational_Duration process is completed\n"
          ]
        },
        {
          "output_type": "display_data",
          "data": {
            "text/plain": [
              "<Figure size 432x288 with 2 Axes>"
            ],
            "image/png": "[encoded data removed]"
          },
          "metadata": {
            "needs_background": "light"
          }
        },
        {
          "output_type": "stream",
          "name": "stderr",
          "text": [
            "/usr/local/lib/python3.7/dist-packages/seaborn/distributions.py:2619: FutureWarning: `distplot` is a deprecated function and will be removed in a future version. Please adapt your code to use either `displot` (a figure-level function with similar flexibility) or `kdeplot` (an axes-level function for kernel density plots).\n",
            "  warnings.warn(msg, FutureWarning)\n",
            "/usr/local/lib/python3.7/dist-packages/seaborn/_decorators.py:43: FutureWarning: Pass the following variable as a keyword arg: x. From version 0.12, the only valid positional argument will be `data`, and passing other arguments without an explicit keyword will result in an error or misinterpretation.\n",
            "  FutureWarning\n"
          ]
        },
        {
          "output_type": "stream",
          "name": "stdout",
          "text": [
            "ProductRelated process is completed\n"
          ]
        },
        {
          "output_type": "display_data",
          "data": {
            "text/plain": [
              "<Figure size 432x288 with 2 Axes>"
            ],
            "image/png": "[encoded data removed]"
          },
          "metadata": {
            "needs_background": "light"
          }
        },
        {
          "output_type": "stream",
          "name": "stderr",
          "text": [
            "/usr/local/lib/python3.7/dist-packages/seaborn/distributions.py:2619: FutureWarning: `distplot` is a deprecated function and will be removed in a future version. Please adapt your code to use either `displot` (a figure-level function with similar flexibility) or `kdeplot` (an axes-level function for kernel density plots).\n",
            "  warnings.warn(msg, FutureWarning)\n",
            "/usr/local/lib/python3.7/dist-packages/seaborn/_decorators.py:43: FutureWarning: Pass the following variable as a keyword arg: x. From version 0.12, the only valid positional argument will be `data`, and passing other arguments without an explicit keyword will result in an error or misinterpretation.\n",
            "  FutureWarning\n"
          ]
        },
        {
          "output_type": "stream",
          "name": "stdout",
          "text": [
            "ProductRelated_Duration process is completed\n"
          ]
        },
        {
          "output_type": "display_data",
          "data": {
            "text/plain": [
              "<Figure size 432x288 with 2 Axes>"
            ],
            "image/png": "[encoded data removed]"
          },
          "metadata": {
            "needs_background": "light"
          }
        },
        {
          "output_type": "stream",
          "name": "stderr",
          "text": [
            "/usr/local/lib/python3.7/dist-packages/seaborn/distributions.py:2619: FutureWarning: `distplot` is a deprecated function and will be removed in a future version. Please adapt your code to use either `displot` (a figure-level function with similar flexibility) or `kdeplot` (an axes-level function for kernel density plots).\n",
            "  warnings.warn(msg, FutureWarning)\n",
            "/usr/local/lib/python3.7/dist-packages/seaborn/_decorators.py:43: FutureWarning: Pass the following variable as a keyword arg: x. From version 0.12, the only valid positional argument will be `data`, and passing other arguments without an explicit keyword will result in an error or misinterpretation.\n",
            "  FutureWarning\n"
          ]
        },
        {
          "output_type": "stream",
          "name": "stdout",
          "text": [
            "BounceRates process is completed\n"
          ]
        },
        {
          "output_type": "display_data",
          "data": {
            "text/plain": [
              "<Figure size 432x288 with 2 Axes>"
            ],
            "image/png": "[encoded data removed]"
          },
          "metadata": {
            "needs_background": "light"
          }
        },
        {
          "output_type": "stream",
          "name": "stderr",
          "text": [
            "/usr/local/lib/python3.7/dist-packages/seaborn/distributions.py:2619: FutureWarning: `distplot` is a deprecated function and will be removed in a future version. Please adapt your code to use either `displot` (a figure-level function with similar flexibility) or `kdeplot` (an axes-level function for kernel density plots).\n",
            "  warnings.warn(msg, FutureWarning)\n",
            "/usr/local/lib/python3.7/dist-packages/seaborn/_decorators.py:43: FutureWarning: Pass the following variable as a keyword arg: x. From version 0.12, the only valid positional argument will be `data`, and passing other arguments without an explicit keyword will result in an error or misinterpretation.\n",
            "  FutureWarning\n"
          ]
        },
        {
          "output_type": "stream",
          "name": "stdout",
          "text": [
            "PageValues process is completed\n"
          ]
        },
        {
          "output_type": "display_data",
          "data": {
            "text/plain": [
              "<Figure size 432x288 with 2 Axes>"
            ],
            "image/png": "[encoded data removed]"
          },
          "metadata": {
            "needs_background": "light"
          }
        },
        {
          "output_type": "stream",
          "name": "stderr",
          "text": [
            "/usr/local/lib/python3.7/dist-packages/seaborn/distributions.py:2619: FutureWarning: `distplot` is a deprecated function and will be removed in a future version. Please adapt your code to use either `displot` (a figure-level function with similar flexibility) or `kdeplot` (an axes-level function for kernel density plots).\n",
            "  warnings.warn(msg, FutureWarning)\n",
            "/usr/local/lib/python3.7/dist-packages/seaborn/_decorators.py:43: FutureWarning: Pass the following variable as a keyword arg: x. From version 0.12, the only valid positional argument will be `data`, and passing other arguments without an explicit keyword will result in an error or misinterpretation.\n",
            "  FutureWarning\n"
          ]
        },
        {
          "output_type": "stream",
          "name": "stdout",
          "text": [
            "SpecialDay process is completed\n"
          ]
        },
        {
          "output_type": "display_data",
          "data": {
            "text/plain": [
              "<Figure size 432x288 with 2 Axes>"
            ],
            "image/png": "[encoded data removed]"
          },
          "metadata": {
            "needs_background": "light"
          }
        },
        {
          "output_type": "stream",
          "name": "stderr",
          "text": [
            "/usr/local/lib/python3.7/dist-packages/seaborn/distributions.py:2619: FutureWarning: `distplot` is a deprecated function and will be removed in a future version. Please adapt your code to use either `displot` (a figure-level function with similar flexibility) or `kdeplot` (an axes-level function for kernel density plots).\n",
            "  warnings.warn(msg, FutureWarning)\n",
            "/usr/local/lib/python3.7/dist-packages/seaborn/_decorators.py:43: FutureWarning: Pass the following variable as a keyword arg: x. From version 0.12, the only valid positional argument will be `data`, and passing other arguments without an explicit keyword will result in an error or misinterpretation.\n",
            "  FutureWarning\n"
          ]
        },
        {
          "output_type": "stream",
          "name": "stdout",
          "text": [
            "TrafficType process is completed\n"
          ]
        },
        {
          "output_type": "display_data",
          "data": {
            "text/plain": [
              "<Figure size 432x288 with 2 Axes>"
            ],
            "image/png": "[encoded data removed]"
          },
          "metadata": {
            "needs_background": "light"
          }
        }
      ]
    },
    {
      "cell_type": "code",
      "source": [
        "from scipy import stats"
      ],
      "metadata": {
        "id": "MPlH7VSI4JNY"
      },
      "execution_count": null,
      "outputs": []
    },
    {
      "cell_type": "code",
      "source": [
        "# handling outlier dengan zscore\n",
        "\n",
        "print(f'Jumlah baris sebelum memfilter outlier: {len(df)}')\n",
        "\n",
        "filtered_entries = np.array([True] * len(df))\n",
        "\n",
        "for col in df_list:\n",
        "    zscore = abs(stats.zscore(df[col]))\n",
        "    filtered_entries = (zscore < 3) & filtered_entries # keep yang kurang dari 3 absolute z-scorenya\n",
        "    \n",
        "df = df[filtered_entries] # filter, cuma ambil yang z-scorenya dibawah 3\n",
        "\n",
        "print(f'Jumlah baris setelah memfilter outlier: {len(df)}')"
      ],
      "metadata": {
        "colab": {
          "base_uri": "https://localhost:8080/"
        },
        "id": "YxoW9uxX4MEE",
        "outputId": "df5a8d7f-ec40-4cf4-826a-f024196fa284"
      },
      "execution_count": null,
      "outputs": [
        {
          "output_type": "stream",
          "name": "stdout",
          "text": [
            "Jumlah baris sebelum memfilter outlier: 12205\n",
            "Jumlah baris setelah memfilter outlier: 10962\n"
          ]
        }
      ]
    },
    {
      "cell_type": "markdown",
      "source": [
        "## 1D. Feature Transformation"
      ],
      "metadata": {
        "id": "K_Xv2SPT4ocD"
      }
    },
    {
      "cell_type": "code",
      "source": [
        "plt.figure(figsize=(15, 5))\n",
        "for i in range(0, len(nums)):\n",
        "    plt.subplot(3, 5, i+1)\n",
        "    sns.kdeplot(x=df[nums[i]], color='green')\n",
        "    plt.xlabel(nums[i])\n",
        "    plt.tight_layout()"
      ],
      "metadata": {
        "colab": {
          "base_uri": "https://localhost:8080/",
          "height": 369
        },
        "id": "qFCzTSOzqiGB",
        "outputId": "a9a50765-88e5-4cff-e614-6ec7d3c7cebc"
      },
      "execution_count": null,
      "outputs": [
        {
          "output_type": "display_data",
          "data": {
            "text/plain": [
              "<Figure size 1080x360 with 14 Axes>"
            ],
            "image/png": "[encoded data removed]"
          },
          "metadata": {
            "needs_background": "light"
          }
        }
      ]
    },
    {
      "cell_type": "code",
      "source": [
        "df.describe()"
      ],
      "metadata": {
        "colab": {
          "base_uri": "https://localhost:8080/",
          "height": 364
        },
        "id": "q8sAdF8a4Ova",
        "outputId": "1b0aa3db-9a0a-4d67-8241-8a887dbd0e1b"
      },
      "execution_count": null,
      "outputs": [
        {
          "output_type": "execute_result",
          "data": {
            "text/plain": [
              "       Administrative  Administrative_Duration  Informational  \\\n",
              "count    10962.000000             10962.000000   10962.000000   \n",
              "mean         0.596822                 2.735919       0.060682   \n",
              "std          0.807682                 2.950553       0.197010   \n",
              "min          0.000000                 0.000000       0.000000   \n",
              "25%          0.000000                 0.000000       0.000000   \n",
              "50%          0.000000                 1.728677       0.000000   \n",
              "75%          1.109393                 5.436045       0.000000   \n",
              "max          3.128280                11.416543       0.852632   \n",
              "\n",
              "       Informational_Duration  ProductRelated  ProductRelated_Duration  \\\n",
              "count            10962.000000    10962.000000             10962.000000   \n",
              "mean                 0.639716        3.134861                 9.557203   \n",
              "std                  1.572415        1.499542                 3.822848   \n",
              "min                  0.000000        0.000000                -0.662000   \n",
              "25%                  0.000000        2.109223                 7.500465   \n",
              "50%                  0.000000        3.188173                 9.979754   \n",
              "75%                  0.000000        4.163634                12.148793   \n",
              "max                  6.758655        7.734792                19.838502   \n",
              "\n",
              "        BounceRates     ExitRates    PageValues    SpecialDay  \\\n",
              "count  10962.000000  10962.000000  10962.000000  10962.000000   \n",
              "mean      -2.210685      0.042488      0.644961     -0.018492   \n",
              "std        2.274509      0.046927      1.478114      0.077331   \n",
              "min       -8.816672      0.000000     -2.538145     -0.407035   \n",
              "25%       -4.322794      0.014286      0.000000      0.000000   \n",
              "50%       -1.611313      0.025641      0.000000      0.000000   \n",
              "75%        0.000000      0.050000      0.000000      0.000000   \n",
              "max        0.000000      0.200000      5.909162      0.000000   \n",
              "\n",
              "       OperatingSystems       Browser        Region   TrafficType  \n",
              "count      10962.000000  10962.000000  10962.000000  10962.000000  \n",
              "mean           2.123974      2.356413      3.163109      0.795914  \n",
              "std            0.901930      1.696917      2.408405      0.536341  \n",
              "min            1.000000      1.000000      1.000000      0.000000  \n",
              "25%            2.000000      2.000000      1.000000      0.615207  \n",
              "50%            2.000000      2.000000      3.000000      0.615207  \n",
              "75%            3.000000      2.000000      4.000000      1.097452  \n",
              "max            8.000000     13.000000      9.000000      1.852826  "
            ],
            "text/html": [
              "\n",
              "  <div id=\"df-966d9bf9-d9b5-4ae3-a935-c912478404c6\">\n",
              "    <div class=\"colab-df-container\">\n",
              "      <div>\n",
              "<style scoped>\n",
              "    .dataframe tbody tr th:only-of-type {\n",
              "        vertical-align: middle;\n",
              "    }\n",
              "\n",
              "    .dataframe tbody tr th {\n",
              "        vertical-align: top;\n",
              "    }\n",
              "\n",
              "    .dataframe thead th {\n",
              "        text-align: right;\n",
              "    }\n",
              "</style>\n",
              "<table border=\"1\" class=\"dataframe\">\n",
              "  <thead>\n",
              "    <tr style=\"text-align: right;\">\n",
              "      <th></th>\n",
              "      <th>Administrative</th>\n",
              "      <th>Administrative_Duration</th>\n",
              "      <th>Informational</th>\n",
              "      <th>Informational_Duration</th>\n",
              "      <th>ProductRelated</th>\n",
              "      <th>ProductRelated_Duration</th>\n",
              "      <th>BounceRates</th>\n",
              "      <th>ExitRates</th>\n",
              "      <th>PageValues</th>\n",
              "      <th>SpecialDay</th>\n",
              "      <th>OperatingSystems</th>\n",
              "      <th>Browser</th>\n",
              "      <th>Region</th>\n",
              "      <th>TrafficType</th>\n",
              "    </tr>\n",
              "  </thead>\n",
              "  <tbody>\n",
              "    <tr>\n",
              "      <th>count</th>\n",
              "      <td>10962.000000</td>\n",
              "      <td>10962.000000</td>\n",
              "      <td>10962.000000</td>\n",
              "      <td>10962.000000</td>\n",
              "      <td>10962.000000</td>\n",
              "      <td>10962.000000</td>\n",
              "      <td>10962.000000</td>\n",
              "      <td>10962.000000</td>\n",
              "      <td>10962.000000</td>\n",
              "      <td>10962.000000</td>\n",
              "      <td>10962.000000</td>\n",
              "      <td>10962.000000</td>\n",
              "      <td>10962.000000</td>\n",
              "      <td>10962.000000</td>\n",
              "    </tr>\n",
              "    <tr>\n",
              "      <th>mean</th>\n",
              "      <td>0.596822</td>\n",
              "      <td>2.735919</td>\n",
              "      <td>0.060682</td>\n",
              "      <td>0.639716</td>\n",
              "      <td>3.134861</td>\n",
              "      <td>9.557203</td>\n",
              "      <td>-2.210685</td>\n",
              "      <td>0.042488</td>\n",
              "      <td>0.644961</td>\n",
              "      <td>-0.018492</td>\n",
              "      <td>2.123974</td>\n",
              "      <td>2.356413</td>\n",
              "      <td>3.163109</td>\n",
              "      <td>0.795914</td>\n",
              "    </tr>\n",
              "    <tr>\n",
              "      <th>std</th>\n",
              "      <td>0.807682</td>\n",
              "      <td>2.950553</td>\n",
              "      <td>0.197010</td>\n",
              "      <td>1.572415</td>\n",
              "      <td>1.499542</td>\n",
              "      <td>3.822848</td>\n",
              "      <td>2.274509</td>\n",
              "      <td>0.046927</td>\n",
              "      <td>1.478114</td>\n",
              "      <td>0.077331</td>\n",
              "      <td>0.901930</td>\n",
              "      <td>1.696917</td>\n",
              "      <td>2.408405</td>\n",
              "      <td>0.536341</td>\n",
              "    </tr>\n",
              "    <tr>\n",
              "      <th>min</th>\n",
              "      <td>0.000000</td>\n",
              "      <td>0.000000</td>\n",
              "      <td>0.000000</td>\n",
              "      <td>0.000000</td>\n",
              "      <td>0.000000</td>\n",
              "      <td>-0.662000</td>\n",
              "      <td>-8.816672</td>\n",
              "      <td>0.000000</td>\n",
              "      <td>-2.538145</td>\n",
              "      <td>-0.407035</td>\n",
              "      <td>1.000000</td>\n",
              "      <td>1.000000</td>\n",
              "      <td>1.000000</td>\n",
              "      <td>0.000000</td>\n",
              "    </tr>\n",
              "    <tr>\n",
              "      <th>25%</th>\n",
              "      <td>0.000000</td>\n",
              "      <td>0.000000</td>\n",
              "      <td>0.000000</td>\n",
              "      <td>0.000000</td>\n",
              "      <td>2.109223</td>\n",
              "      <td>7.500465</td>\n",
              "      <td>-4.322794</td>\n",
              "      <td>0.014286</td>\n",
              "      <td>0.000000</td>\n",
              "      <td>0.000000</td>\n",
              "      <td>2.000000</td>\n",
              "      <td>2.000000</td>\n",
              "      <td>1.000000</td>\n",
              "      <td>0.615207</td>\n",
              "    </tr>\n",
              "    <tr>\n",
              "      <th>50%</th>\n",
              "      <td>0.000000</td>\n",
              "      <td>1.728677</td>\n",
              "      <td>0.000000</td>\n",
              "      <td>0.000000</td>\n",
              "      <td>3.188173</td>\n",
              "      <td>9.979754</td>\n",
              "      <td>-1.611313</td>\n",
              "      <td>0.025641</td>\n",
              "      <td>0.000000</td>\n",
              "      <td>0.000000</td>\n",
              "      <td>2.000000</td>\n",
              "      <td>2.000000</td>\n",
              "      <td>3.000000</td>\n",
              "      <td>0.615207</td>\n",
              "    </tr>\n",
              "    <tr>\n",
              "      <th>75%</th>\n",
              "      <td>1.109393</td>\n",
              "      <td>5.436045</td>\n",
              "      <td>0.000000</td>\n",
              "      <td>0.000000</td>\n",
              "      <td>4.163634</td>\n",
              "      <td>12.148793</td>\n",
              "      <td>0.000000</td>\n",
              "      <td>0.050000</td>\n",
              "      <td>0.000000</td>\n",
              "      <td>0.000000</td>\n",
              "      <td>3.000000</td>\n",
              "      <td>2.000000</td>\n",
              "      <td>4.000000</td>\n",
              "      <td>1.097452</td>\n",
              "    </tr>\n",
              "    <tr>\n",
              "      <th>max</th>\n",
              "      <td>3.128280</td>\n",
              "      <td>11.416543</td>\n",
              "      <td>0.852632</td>\n",
              "      <td>6.758655</td>\n",
              "      <td>7.734792</td>\n",
              "      <td>19.838502</td>\n",
              "      <td>0.000000</td>\n",
              "      <td>0.200000</td>\n",
              "      <td>5.909162</td>\n",
              "      <td>0.000000</td>\n",
              "      <td>8.000000</td>\n",
              "      <td>13.000000</td>\n",
              "      <td>9.000000</td>\n",
              "      <td>1.852826</td>\n",
              "    </tr>\n",
              "  </tbody>\n",
              "</table>\n",
              "</div>\n",
              "      <button class=\"colab-df-convert\" onclick=\"convertToInteractive('df-966d9bf9-d9b5-4ae3-a935-c912478404c6')\"\n",
              "              title=\"Convert this dataframe to an interactive table.\"\n",
              "              style=\"display:none;\">\n",
              "        \n",
              "  <svg xmlns=\"http://www.w3.org/2000/svg\" height=\"24px\"viewBox=\"0 0 24 24\"\n",
              "       width=\"24px\">\n",
              "    <path d=\"M0 0h24v24H0V0z\" fill=\"none\"/>\n",
              "    <path d=\"M18.56 5.44l.94 2.06.94-2.06 2.06-.94-2.06-.94-.94-2.06-.94 2.06-2.06.94zm-11 1L8.5 8.5l.94-2.06 2.06-.94-2.06-.94L8.5 2.5l-.94 2.06-2.06.94zm10 10l.94 2.06.94-2.06 2.06-.94-2.06-.94-.94-2.06-.94 2.06-2.06.94z\"/><path d=\"M17.41 7.96l-1.37-1.37c-.4-.4-.92-.59-1.43-.59-.52 0-1.04.2-1.43.59L10.3 9.45l-7.72 7.72c-.78.78-.78 2.05 0 2.83L4 21.41c.39.39.9.59 1.41.59.51 0 1.02-.2 1.41-.59l7.78-7.78 2.81-2.81c.8-.78.8-2.07 0-2.86zM5.41 20L4 18.59l7.72-7.72 1.47 1.35L5.41 20z\"/>\n",
              "  </svg>\n",
              "      </button>\n",
              "      \n",
              "  <style>\n",
              "    .colab-df-container {\n",
              "      display:flex;\n",
              "      flex-wrap:wrap;\n",
              "      gap: 12px;\n",
              "    }\n",
              "\n",
              "    .colab-df-convert {\n",
              "      background-color: #E8F0FE;\n",
              "      border: none;\n",
              "      border-radius: 50%;\n",
              "      cursor: pointer;\n",
              "      display: none;\n",
              "      fill: #1967D2;\n",
              "      height: 32px;\n",
              "      padding: 0 0 0 0;\n",
              "      width: 32px;\n",
              "    }\n",
              "\n",
              "    .colab-df-convert:hover {\n",
              "      background-color: #E2EBFA;\n",
              "      box-shadow: 0px 1px 2px rgba(60, 64, 67, 0.3), 0px 1px 3px 1px rgba(60, 64, 67, 0.15);\n",
              "      fill: #174EA6;\n",
              "    }\n",
              "\n",
              "    [theme=dark] .colab-df-convert {\n",
              "      background-color: #3B4455;\n",
              "      fill: #D2E3FC;\n",
              "    }\n",
              "\n",
              "    [theme=dark] .colab-df-convert:hover {\n",
              "      background-color: #434B5C;\n",
              "      box-shadow: 0px 1px 3px 1px rgba(0, 0, 0, 0.15);\n",
              "      filter: drop-shadow(0px 1px 2px rgba(0, 0, 0, 0.3));\n",
              "      fill: #FFFFFF;\n",
              "    }\n",
              "  </style>\n",
              "\n",
              "      <script>\n",
              "        const buttonEl =\n",
              "          document.querySelector('#df-966d9bf9-d9b5-4ae3-a935-c912478404c6 button.colab-df-convert');\n",
              "        buttonEl.style.display =\n",
              "          google.colab.kernel.accessAllowed ? 'block' : 'none';\n",
              "\n",
              "        async function convertToInteractive(key) {\n",
              "          const element = document.querySelector('#df-966d9bf9-d9b5-4ae3-a935-c912478404c6');\n",
              "          const dataTable =\n",
              "            await google.colab.kernel.invokeFunction('convertToInteractive',\n",
              "                                                     [key], {});\n",
              "          if (!dataTable) return;\n",
              "\n",
              "          const docLinkHtml = 'Like what you see? Visit the ' +\n",
              "            '<a target=\"_blank\" href=https://colab.research.google.com/notebooks/data_table.ipynb>data table notebook</a>'\n",
              "            + ' to learn more about interactive tables.';\n",
              "          element.innerHTML = '';\n",
              "          dataTable['output_type'] = 'display_data';\n",
              "          await google.colab.output.renderOutput(dataTable, element);\n",
              "          const docLink = document.createElement('div');\n",
              "          docLink.innerHTML = docLinkHtml;\n",
              "          element.appendChild(docLink);\n",
              "        }\n",
              "      </script>\n",
              "    </div>\n",
              "  </div>\n",
              "  "
            ]
          },
          "metadata": {},
          "execution_count": 24
        }
      ]
    },
    {
      "cell_type": "code",
      "source": [
        "from sklearn.preprocessing import MinMaxScaler, StandardScaler\n",
        "\n",
        "# exitrates kita re-scale ke [0,1]\n",
        "df['exitrates_norm'] = MinMaxScaler().fit_transform(df['ExitRates'].values.reshape(len(df), 1))\n",
        "\n",
        "# kolom lainnya kita standarisasi (karena distribusi datanya sudah mendekati normal)\n",
        "df['administrative_std'] = StandardScaler().fit_transform(df['Administrative'].values.reshape(len(df), 1))\n",
        "df['administrativeduration_std'] = StandardScaler().fit_transform(df['Administrative_Duration'].values.reshape(len(df), 1))\n",
        "df['informational_std'] = StandardScaler().fit_transform(df['Informational'].values.reshape(len(df), 1))\n",
        "df['informationalduration_std'] = StandardScaler().fit_transform(df['Informational_Duration'].values.reshape(len(df), 1))\n",
        "df['productrelated_std'] = StandardScaler().fit_transform(df['ProductRelated'].values.reshape(len(df), 1))\n",
        "df['productrelatedduration_std'] = StandardScaler().fit_transform(df['ProductRelated_Duration'].values.reshape(len(df), 1))\n",
        "df['bouncerates_std'] = StandardScaler().fit_transform(df['BounceRates'].values.reshape(len(df), 1))\n",
        "df['pagevalues_std'] = StandardScaler().fit_transform(df['PageValues'].values.reshape(len(df), 1))\n",
        "df['specialday_std'] = StandardScaler().fit_transform(df['SpecialDay'].values.reshape(len(df), 1))\n",
        "df['traffictype_std'] = StandardScaler().fit_transform(df['TrafficType'].values.reshape(len(df), 1))\n"
      ],
      "metadata": {
        "id": "f1zTBgdrq4US"
      },
      "execution_count": null,
      "outputs": []
    },
    {
      "cell_type": "code",
      "source": [
        "df.describe()"
      ],
      "metadata": {
        "colab": {
          "base_uri": "https://localhost:8080/",
          "height": 394
        },
        "id": "lT0W1Yx9uFCF",
        "outputId": "5c370b4d-17d8-4638-da64-0a59076b6326"
      },
      "execution_count": null,
      "outputs": [
        {
          "output_type": "execute_result",
          "data": {
            "text/plain": [
              "       Administrative  Administrative_Duration  Informational  \\\n",
              "count    10962.000000             10962.000000   10962.000000   \n",
              "mean         0.596822                 2.735919       0.060682   \n",
              "std          0.807682                 2.950553       0.197010   \n",
              "min          0.000000                 0.000000       0.000000   \n",
              "25%          0.000000                 0.000000       0.000000   \n",
              "50%          0.000000                 1.728677       0.000000   \n",
              "75%          1.109393                 5.436045       0.000000   \n",
              "max          3.128280                11.416543       0.852632   \n",
              "\n",
              "       Informational_Duration  ProductRelated  ProductRelated_Duration  \\\n",
              "count            10962.000000    10962.000000             10962.000000   \n",
              "mean                 0.639716        3.134861                 9.557203   \n",
              "std                  1.572415        1.499542                 3.822848   \n",
              "min                  0.000000        0.000000                -0.662000   \n",
              "25%                  0.000000        2.109223                 7.500465   \n",
              "50%                  0.000000        3.188173                 9.979754   \n",
              "75%                  0.000000        4.163634                12.148793   \n",
              "max                  6.758655        7.734792                19.838502   \n",
              "\n",
              "        BounceRates     ExitRates    PageValues    SpecialDay  ...  \\\n",
              "count  10962.000000  10962.000000  10962.000000  10962.000000  ...   \n",
              "mean      -2.210685      0.042488      0.644961     -0.018492  ...   \n",
              "std        2.274509      0.046927      1.478114      0.077331  ...   \n",
              "min       -8.816672      0.000000     -2.538145     -0.407035  ...   \n",
              "25%       -4.322794      0.014286      0.000000      0.000000  ...   \n",
              "50%       -1.611313      0.025641      0.000000      0.000000  ...   \n",
              "75%        0.000000      0.050000      0.000000      0.000000  ...   \n",
              "max        0.000000      0.200000      5.909162      0.000000  ...   \n",
              "\n",
              "       administrative_std  administrativeduration_std  informational_std  \\\n",
              "count        1.096200e+04                1.096200e+04       1.096200e+04   \n",
              "mean        -4.670816e-15                9.897412e-16       1.866961e-15   \n",
              "std          1.000046e+00                1.000046e+00       1.000046e+00   \n",
              "min         -7.389663e-01               -9.272987e-01      -3.080304e-01   \n",
              "25%         -7.389663e-01               -9.272987e-01      -3.080304e-01   \n",
              "50%         -7.389663e-01               -3.413896e-01      -3.080304e-01   \n",
              "75%          6.346486e-01                9.151671e-01      -3.080304e-01   \n",
              "max          3.134370e+00                2.942167e+00       4.020023e+00   \n",
              "\n",
              "       informationalduration_std  productrelated_std  \\\n",
              "count               1.096200e+04        1.096200e+04   \n",
              "mean                3.209235e-16       -5.461787e-16   \n",
              "std                 1.000046e+00        1.000046e+00   \n",
              "min                -4.068554e-01       -2.090641e+00   \n",
              "25%                -4.068554e-01       -6.839987e-01   \n",
              "50%                -4.068554e-01        3.555408e-02   \n",
              "75%                -4.068554e-01        6.860894e-01   \n",
              "max                 3.891605e+00        3.067697e+00   \n",
              "\n",
              "       productrelatedduration_std  bouncerates_std  pagevalues_std  \\\n",
              "count                1.096200e+04     1.096200e+04    1.096200e+04   \n",
              "mean                -4.672822e-16     9.924778e-15   -4.076277e-15   \n",
              "std                  1.000046e+00     1.000046e+00    1.000046e+00   \n",
              "min                 -2.673313e+00    -2.904490e+00   -2.153591e+00   \n",
              "25%                 -5.380365e-01    -9.286425e-01   -4.363606e-01   \n",
              "50%                  1.105382e-01     2.635291e-01   -4.363606e-01   \n",
              "75%                  6.779522e-01     9.719837e-01   -4.363606e-01   \n",
              "max                  2.689557e+00     9.719837e-01    3.561594e+00   \n",
              "\n",
              "       specialday_std  traffictype_std  \n",
              "count    1.096200e+04     1.096200e+04  \n",
              "mean    -9.371282e-15    -2.684710e-16  \n",
              "std      1.000046e+00     1.000046e+00  \n",
              "min     -5.024648e+00    -1.484040e+00  \n",
              "25%      2.391326e-01    -3.369417e-01  \n",
              "50%      2.391326e-01    -3.369417e-01  \n",
              "75%      2.391326e-01     5.622396e-01  \n",
              "max      2.391326e-01     1.970687e+00  \n",
              "\n",
              "[8 rows x 25 columns]"
            ],
            "text/html": [
              "\n",
              "  <div id=\"df-4e0007f4-f4b5-423b-aa93-d4ae4426686c\">\n",
              "    <div class=\"colab-df-container\">\n",
              "      <div>\n",
              "<style scoped>\n",
              "    .dataframe tbody tr th:only-of-type {\n",
              "        vertical-align: middle;\n",
              "    }\n",
              "\n",
              "    .dataframe tbody tr th {\n",
              "        vertical-align: top;\n",
              "    }\n",
              "\n",
              "    .dataframe thead th {\n",
              "        text-align: right;\n",
              "    }\n",
              "</style>\n",
              "<table border=\"1\" class=\"dataframe\">\n",
              "  <thead>\n",
              "    <tr style=\"text-align: right;\">\n",
              "      <th></th>\n",
              "      <th>Administrative</th>\n",
              "      <th>Administrative_Duration</th>\n",
              "      <th>Informational</th>\n",
              "      <th>Informational_Duration</th>\n",
              "      <th>ProductRelated</th>\n",
              "      <th>ProductRelated_Duration</th>\n",
              "      <th>BounceRates</th>\n",
              "      <th>ExitRates</th>\n",
              "      <th>PageValues</th>\n",
              "      <th>SpecialDay</th>\n",
              "      <th>...</th>\n",
              "      <th>administrative_std</th>\n",
              "      <th>administrativeduration_std</th>\n",
              "      <th>informational_std</th>\n",
              "      <th>informationalduration_std</th>\n",
              "      <th>productrelated_std</th>\n",
              "      <th>productrelatedduration_std</th>\n",
              "      <th>bouncerates_std</th>\n",
              "      <th>pagevalues_std</th>\n",
              "      <th>specialday_std</th>\n",
              "      <th>traffictype_std</th>\n",
              "    </tr>\n",
              "  </thead>\n",
              "  <tbody>\n",
              "    <tr>\n",
              "      <th>count</th>\n",
              "      <td>10962.000000</td>\n",
              "      <td>10962.000000</td>\n",
              "      <td>10962.000000</td>\n",
              "      <td>10962.000000</td>\n",
              "      <td>10962.000000</td>\n",
              "      <td>10962.000000</td>\n",
              "      <td>10962.000000</td>\n",
              "      <td>10962.000000</td>\n",
              "      <td>10962.000000</td>\n",
              "      <td>10962.000000</td>\n",
              "      <td>...</td>\n",
              "      <td>1.096200e+04</td>\n",
              "      <td>1.096200e+04</td>\n",
              "      <td>1.096200e+04</td>\n",
              "      <td>1.096200e+04</td>\n",
              "      <td>1.096200e+04</td>\n",
              "      <td>1.096200e+04</td>\n",
              "      <td>1.096200e+04</td>\n",
              "      <td>1.096200e+04</td>\n",
              "      <td>1.096200e+04</td>\n",
              "      <td>1.096200e+04</td>\n",
              "    </tr>\n",
              "    <tr>\n",
              "      <th>mean</th>\n",
              "      <td>0.596822</td>\n",
              "      <td>2.735919</td>\n",
              "      <td>0.060682</td>\n",
              "      <td>0.639716</td>\n",
              "      <td>3.134861</td>\n",
              "      <td>9.557203</td>\n",
              "      <td>-2.210685</td>\n",
              "      <td>0.042488</td>\n",
              "      <td>0.644961</td>\n",
              "      <td>-0.018492</td>\n",
              "      <td>...</td>\n",
              "      <td>-4.670816e-15</td>\n",
              "      <td>9.897412e-16</td>\n",
              "      <td>1.866961e-15</td>\n",
              "      <td>3.209235e-16</td>\n",
              "      <td>-5.461787e-16</td>\n",
              "      <td>-4.672822e-16</td>\n",
              "      <td>9.924778e-15</td>\n",
              "      <td>-4.076277e-15</td>\n",
              "      <td>-9.371282e-15</td>\n",
              "      <td>-2.684710e-16</td>\n",
              "    </tr>\n",
              "    <tr>\n",
              "      <th>std</th>\n",
              "      <td>0.807682</td>\n",
              "      <td>2.950553</td>\n",
              "      <td>0.197010</td>\n",
              "      <td>1.572415</td>\n",
              "      <td>1.499542</td>\n",
              "      <td>3.822848</td>\n",
              "      <td>2.274509</td>\n",
              "      <td>0.046927</td>\n",
              "      <td>1.478114</td>\n",
              "      <td>0.077331</td>\n",
              "      <td>...</td>\n",
              "      <td>1.000046e+00</td>\n",
              "      <td>1.000046e+00</td>\n",
              "      <td>1.000046e+00</td>\n",
              "      <td>1.000046e+00</td>\n",
              "      <td>1.000046e+00</td>\n",
              "      <td>1.000046e+00</td>\n",
              "      <td>1.000046e+00</td>\n",
              "      <td>1.000046e+00</td>\n",
              "      <td>1.000046e+00</td>\n",
              "      <td>1.000046e+00</td>\n",
              "    </tr>\n",
              "    <tr>\n",
              "      <th>min</th>\n",
              "      <td>0.000000</td>\n",
              "      <td>0.000000</td>\n",
              "      <td>0.000000</td>\n",
              "      <td>0.000000</td>\n",
              "      <td>0.000000</td>\n",
              "      <td>-0.662000</td>\n",
              "      <td>-8.816672</td>\n",
              "      <td>0.000000</td>\n",
              "      <td>-2.538145</td>\n",
              "      <td>-0.407035</td>\n",
              "      <td>...</td>\n",
              "      <td>-7.389663e-01</td>\n",
              "      <td>-9.272987e-01</td>\n",
              "      <td>-3.080304e-01</td>\n",
              "      <td>-4.068554e-01</td>\n",
              "      <td>-2.090641e+00</td>\n",
              "      <td>-2.673313e+00</td>\n",
              "      <td>-2.904490e+00</td>\n",
              "      <td>-2.153591e+00</td>\n",
              "      <td>-5.024648e+00</td>\n",
              "      <td>-1.484040e+00</td>\n",
              "    </tr>\n",
              "    <tr>\n",
              "      <th>25%</th>\n",
              "      <td>0.000000</td>\n",
              "      <td>0.000000</td>\n",
              "      <td>0.000000</td>\n",
              "      <td>0.000000</td>\n",
              "      <td>2.109223</td>\n",
              "      <td>7.500465</td>\n",
              "      <td>-4.322794</td>\n",
              "      <td>0.014286</td>\n",
              "      <td>0.000000</td>\n",
              "      <td>0.000000</td>\n",
              "      <td>...</td>\n",
              "      <td>-7.389663e-01</td>\n",
              "      <td>-9.272987e-01</td>\n",
              "      <td>-3.080304e-01</td>\n",
              "      <td>-4.068554e-01</td>\n",
              "      <td>-6.839987e-01</td>\n",
              "      <td>-5.380365e-01</td>\n",
              "      <td>-9.286425e-01</td>\n",
              "      <td>-4.363606e-01</td>\n",
              "      <td>2.391326e-01</td>\n",
              "      <td>-3.369417e-01</td>\n",
              "    </tr>\n",
              "    <tr>\n",
              "      <th>50%</th>\n",
              "      <td>0.000000</td>\n",
              "      <td>1.728677</td>\n",
              "      <td>0.000000</td>\n",
              "      <td>0.000000</td>\n",
              "      <td>3.188173</td>\n",
              "      <td>9.979754</td>\n",
              "      <td>-1.611313</td>\n",
              "      <td>0.025641</td>\n",
              "      <td>0.000000</td>\n",
              "      <td>0.000000</td>\n",
              "      <td>...</td>\n",
              "      <td>-7.389663e-01</td>\n",
              "      <td>-3.413896e-01</td>\n",
              "      <td>-3.080304e-01</td>\n",
              "      <td>-4.068554e-01</td>\n",
              "      <td>3.555408e-02</td>\n",
              "      <td>1.105382e-01</td>\n",
              "      <td>2.635291e-01</td>\n",
              "      <td>-4.363606e-01</td>\n",
              "      <td>2.391326e-01</td>\n",
              "      <td>-3.369417e-01</td>\n",
              "    </tr>\n",
              "    <tr>\n",
              "      <th>75%</th>\n",
              "      <td>1.109393</td>\n",
              "      <td>5.436045</td>\n",
              "      <td>0.000000</td>\n",
              "      <td>0.000000</td>\n",
              "      <td>4.163634</td>\n",
              "      <td>12.148793</td>\n",
              "      <td>0.000000</td>\n",
              "      <td>0.050000</td>\n",
              "      <td>0.000000</td>\n",
              "      <td>0.000000</td>\n",
              "      <td>...</td>\n",
              "      <td>6.346486e-01</td>\n",
              "      <td>9.151671e-01</td>\n",
              "      <td>-3.080304e-01</td>\n",
              "      <td>-4.068554e-01</td>\n",
              "      <td>6.860894e-01</td>\n",
              "      <td>6.779522e-01</td>\n",
              "      <td>9.719837e-01</td>\n",
              "      <td>-4.363606e-01</td>\n",
              "      <td>2.391326e-01</td>\n",
              "      <td>5.622396e-01</td>\n",
              "    </tr>\n",
              "    <tr>\n",
              "      <th>max</th>\n",
              "      <td>3.128280</td>\n",
              "      <td>11.416543</td>\n",
              "      <td>0.852632</td>\n",
              "      <td>6.758655</td>\n",
              "      <td>7.734792</td>\n",
              "      <td>19.838502</td>\n",
              "      <td>0.000000</td>\n",
              "      <td>0.200000</td>\n",
              "      <td>5.909162</td>\n",
              "      <td>0.000000</td>\n",
              "      <td>...</td>\n",
              "      <td>3.134370e+00</td>\n",
              "      <td>2.942167e+00</td>\n",
              "      <td>4.020023e+00</td>\n",
              "      <td>3.891605e+00</td>\n",
              "      <td>3.067697e+00</td>\n",
              "      <td>2.689557e+00</td>\n",
              "      <td>9.719837e-01</td>\n",
              "      <td>3.561594e+00</td>\n",
              "      <td>2.391326e-01</td>\n",
              "      <td>1.970687e+00</td>\n",
              "    </tr>\n",
              "  </tbody>\n",
              "</table>\n",
              "<p>8 rows × 25 columns</p>\n",
              "</div>\n",
              "      <button class=\"colab-df-convert\" onclick=\"convertToInteractive('df-4e0007f4-f4b5-423b-aa93-d4ae4426686c')\"\n",
              "              title=\"Convert this dataframe to an interactive table.\"\n",
              "              style=\"display:none;\">\n",
              "        \n",
              "  <svg xmlns=\"http://www.w3.org/2000/svg\" height=\"24px\"viewBox=\"0 0 24 24\"\n",
              "       width=\"24px\">\n",
              "    <path d=\"M0 0h24v24H0V0z\" fill=\"none\"/>\n",
              "    <path d=\"M18.56 5.44l.94 2.06.94-2.06 2.06-.94-2.06-.94-.94-2.06-.94 2.06-2.06.94zm-11 1L8.5 8.5l.94-2.06 2.06-.94-2.06-.94L8.5 2.5l-.94 2.06-2.06.94zm10 10l.94 2.06.94-2.06 2.06-.94-2.06-.94-.94-2.06-.94 2.06-2.06.94z\"/><path d=\"M17.41 7.96l-1.37-1.37c-.4-.4-.92-.59-1.43-.59-.52 0-1.04.2-1.43.59L10.3 9.45l-7.72 7.72c-.78.78-.78 2.05 0 2.83L4 21.41c.39.39.9.59 1.41.59.51 0 1.02-.2 1.41-.59l7.78-7.78 2.81-2.81c.8-.78.8-2.07 0-2.86zM5.41 20L4 18.59l7.72-7.72 1.47 1.35L5.41 20z\"/>\n",
              "  </svg>\n",
              "      </button>\n",
              "      \n",
              "  <style>\n",
              "    .colab-df-container {\n",
              "      display:flex;\n",
              "      flex-wrap:wrap;\n",
              "      gap: 12px;\n",
              "    }\n",
              "\n",
              "    .colab-df-convert {\n",
              "      background-color: #E8F0FE;\n",
              "      border: none;\n",
              "      border-radius: 50%;\n",
              "      cursor: pointer;\n",
              "      display: none;\n",
              "      fill: #1967D2;\n",
              "      height: 32px;\n",
              "      padding: 0 0 0 0;\n",
              "      width: 32px;\n",
              "    }\n",
              "\n",
              "    .colab-df-convert:hover {\n",
              "      background-color: #E2EBFA;\n",
              "      box-shadow: 0px 1px 2px rgba(60, 64, 67, 0.3), 0px 1px 3px 1px rgba(60, 64, 67, 0.15);\n",
              "      fill: #174EA6;\n",
              "    }\n",
              "\n",
              "    [theme=dark] .colab-df-convert {\n",
              "      background-color: #3B4455;\n",
              "      fill: #D2E3FC;\n",
              "    }\n",
              "\n",
              "    [theme=dark] .colab-df-convert:hover {\n",
              "      background-color: #434B5C;\n",
              "      box-shadow: 0px 1px 3px 1px rgba(0, 0, 0, 0.15);\n",
              "      filter: drop-shadow(0px 1px 2px rgba(0, 0, 0, 0.3));\n",
              "      fill: #FFFFFF;\n",
              "    }\n",
              "  </style>\n",
              "\n",
              "      <script>\n",
              "        const buttonEl =\n",
              "          document.querySelector('#df-4e0007f4-f4b5-423b-aa93-d4ae4426686c button.colab-df-convert');\n",
              "        buttonEl.style.display =\n",
              "          google.colab.kernel.accessAllowed ? 'block' : 'none';\n",
              "\n",
              "        async function convertToInteractive(key) {\n",
              "          const element = document.querySelector('#df-4e0007f4-f4b5-423b-aa93-d4ae4426686c');\n",
              "          const dataTable =\n",
              "            await google.colab.kernel.invokeFunction('convertToInteractive',\n",
              "                                                     [key], {});\n",
              "          if (!dataTable) return;\n",
              "\n",
              "          const docLinkHtml = 'Like what you see? Visit the ' +\n",
              "            '<a target=\"_blank\" href=https://colab.research.google.com/notebooks/data_table.ipynb>data table notebook</a>'\n",
              "            + ' to learn more about interactive tables.';\n",
              "          element.innerHTML = '';\n",
              "          dataTable['output_type'] = 'display_data';\n",
              "          await google.colab.output.renderOutput(dataTable, element);\n",
              "          const docLink = document.createElement('div');\n",
              "          docLink.innerHTML = docLinkHtml;\n",
              "          element.appendChild(docLink);\n",
              "        }\n",
              "      </script>\n",
              "    </div>\n",
              "  </div>\n",
              "  "
            ]
          },
          "metadata": {},
          "execution_count": 26
        }
      ]
    },
    {
      "cell_type": "code",
      "source": [
        "# drop kolom asli yang sudah di transformasi(karena sudah di-encoding)\n",
        "df= df.drop ( columns=['Administrative','Administrative_Duration','Informational','Informational_Duration','ProductRelated','ProductRelated_Duration','BounceRates','PageValues','SpecialDay','TrafficType','ExitRates'])"
      ],
      "metadata": {
        "id": "eAf6x1N4uco8"
      },
      "execution_count": null,
      "outputs": []
    },
    {
      "cell_type": "code",
      "source": [
        "df.describe()"
      ],
      "metadata": {
        "colab": {
          "base_uri": "https://localhost:8080/",
          "height": 364
        },
        "id": "G5HVyRtuvsCp",
        "outputId": "408966cb-be91-4821-8b14-181029fda07b"
      },
      "execution_count": null,
      "outputs": [
        {
          "output_type": "execute_result",
          "data": {
            "text/plain": [
              "       OperatingSystems       Browser        Region  exitrates_norm  \\\n",
              "count      10962.000000  10962.000000  10962.000000    10962.000000   \n",
              "mean           2.123974      2.356413      3.163109        0.212442   \n",
              "std            0.901930      1.696917      2.408405        0.234634   \n",
              "min            1.000000      1.000000      1.000000        0.000000   \n",
              "25%            2.000000      2.000000      1.000000        0.071429   \n",
              "50%            2.000000      2.000000      3.000000        0.128205   \n",
              "75%            3.000000      2.000000      4.000000        0.250000   \n",
              "max            8.000000     13.000000      9.000000        1.000000   \n",
              "\n",
              "       administrative_std  administrativeduration_std  informational_std  \\\n",
              "count        1.096200e+04                1.096200e+04       1.096200e+04   \n",
              "mean        -4.670816e-15                9.897412e-16       1.866961e-15   \n",
              "std          1.000046e+00                1.000046e+00       1.000046e+00   \n",
              "min         -7.389663e-01               -9.272987e-01      -3.080304e-01   \n",
              "25%         -7.389663e-01               -9.272987e-01      -3.080304e-01   \n",
              "50%         -7.389663e-01               -3.413896e-01      -3.080304e-01   \n",
              "75%          6.346486e-01                9.151671e-01      -3.080304e-01   \n",
              "max          3.134370e+00                2.942167e+00       4.020023e+00   \n",
              "\n",
              "       informationalduration_std  productrelated_std  \\\n",
              "count               1.096200e+04        1.096200e+04   \n",
              "mean                3.209235e-16       -5.461787e-16   \n",
              "std                 1.000046e+00        1.000046e+00   \n",
              "min                -4.068554e-01       -2.090641e+00   \n",
              "25%                -4.068554e-01       -6.839987e-01   \n",
              "50%                -4.068554e-01        3.555408e-02   \n",
              "75%                -4.068554e-01        6.860894e-01   \n",
              "max                 3.891605e+00        3.067697e+00   \n",
              "\n",
              "       productrelatedduration_std  bouncerates_std  pagevalues_std  \\\n",
              "count                1.096200e+04     1.096200e+04    1.096200e+04   \n",
              "mean                -4.672822e-16     9.924778e-15   -4.076277e-15   \n",
              "std                  1.000046e+00     1.000046e+00    1.000046e+00   \n",
              "min                 -2.673313e+00    -2.904490e+00   -2.153591e+00   \n",
              "25%                 -5.380365e-01    -9.286425e-01   -4.363606e-01   \n",
              "50%                  1.105382e-01     2.635291e-01   -4.363606e-01   \n",
              "75%                  6.779522e-01     9.719837e-01   -4.363606e-01   \n",
              "max                  2.689557e+00     9.719837e-01    3.561594e+00   \n",
              "\n",
              "       specialday_std  traffictype_std  \n",
              "count    1.096200e+04     1.096200e+04  \n",
              "mean    -9.371282e-15    -2.684710e-16  \n",
              "std      1.000046e+00     1.000046e+00  \n",
              "min     -5.024648e+00    -1.484040e+00  \n",
              "25%      2.391326e-01    -3.369417e-01  \n",
              "50%      2.391326e-01    -3.369417e-01  \n",
              "75%      2.391326e-01     5.622396e-01  \n",
              "max      2.391326e-01     1.970687e+00  "
            ],
            "text/html": [
              "\n",
              "  <div id=\"df-bf4d9ccf-cbb8-4b99-a9bb-c4ba046b12b7\">\n",
              "    <div class=\"colab-df-container\">\n",
              "      <div>\n",
              "<style scoped>\n",
              "    .dataframe tbody tr th:only-of-type {\n",
              "        vertical-align: middle;\n",
              "    }\n",
              "\n",
              "    .dataframe tbody tr th {\n",
              "        vertical-align: top;\n",
              "    }\n",
              "\n",
              "    .dataframe thead th {\n",
              "        text-align: right;\n",
              "    }\n",
              "</style>\n",
              "<table border=\"1\" class=\"dataframe\">\n",
              "  <thead>\n",
              "    <tr style=\"text-align: right;\">\n",
              "      <th></th>\n",
              "      <th>OperatingSystems</th>\n",
              "      <th>Browser</th>\n",
              "      <th>Region</th>\n",
              "      <th>exitrates_norm</th>\n",
              "      <th>administrative_std</th>\n",
              "      <th>administrativeduration_std</th>\n",
              "      <th>informational_std</th>\n",
              "      <th>informationalduration_std</th>\n",
              "      <th>productrelated_std</th>\n",
              "      <th>productrelatedduration_std</th>\n",
              "      <th>bouncerates_std</th>\n",
              "      <th>pagevalues_std</th>\n",
              "      <th>specialday_std</th>\n",
              "      <th>traffictype_std</th>\n",
              "    </tr>\n",
              "  </thead>\n",
              "  <tbody>\n",
              "    <tr>\n",
              "      <th>count</th>\n",
              "      <td>10962.000000</td>\n",
              "      <td>10962.000000</td>\n",
              "      <td>10962.000000</td>\n",
              "      <td>10962.000000</td>\n",
              "      <td>1.096200e+04</td>\n",
              "      <td>1.096200e+04</td>\n",
              "      <td>1.096200e+04</td>\n",
              "      <td>1.096200e+04</td>\n",
              "      <td>1.096200e+04</td>\n",
              "      <td>1.096200e+04</td>\n",
              "      <td>1.096200e+04</td>\n",
              "      <td>1.096200e+04</td>\n",
              "      <td>1.096200e+04</td>\n",
              "      <td>1.096200e+04</td>\n",
              "    </tr>\n",
              "    <tr>\n",
              "      <th>mean</th>\n",
              "      <td>2.123974</td>\n",
              "      <td>2.356413</td>\n",
              "      <td>3.163109</td>\n",
              "      <td>0.212442</td>\n",
              "      <td>-4.670816e-15</td>\n",
              "      <td>9.897412e-16</td>\n",
              "      <td>1.866961e-15</td>\n",
              "      <td>3.209235e-16</td>\n",
              "      <td>-5.461787e-16</td>\n",
              "      <td>-4.672822e-16</td>\n",
              "      <td>9.924778e-15</td>\n",
              "      <td>-4.076277e-15</td>\n",
              "      <td>-9.371282e-15</td>\n",
              "      <td>-2.684710e-16</td>\n",
              "    </tr>\n",
              "    <tr>\n",
              "      <th>std</th>\n",
              "      <td>0.901930</td>\n",
              "      <td>1.696917</td>\n",
              "      <td>2.408405</td>\n",
              "      <td>0.234634</td>\n",
              "      <td>1.000046e+00</td>\n",
              "      <td>1.000046e+00</td>\n",
              "      <td>1.000046e+00</td>\n",
              "      <td>1.000046e+00</td>\n",
              "      <td>1.000046e+00</td>\n",
              "      <td>1.000046e+00</td>\n",
              "      <td>1.000046e+00</td>\n",
              "      <td>1.000046e+00</td>\n",
              "      <td>1.000046e+00</td>\n",
              "      <td>1.000046e+00</td>\n",
              "    </tr>\n",
              "    <tr>\n",
              "      <th>min</th>\n",
              "      <td>1.000000</td>\n",
              "      <td>1.000000</td>\n",
              "      <td>1.000000</td>\n",
              "      <td>0.000000</td>\n",
              "      <td>-7.389663e-01</td>\n",
              "      <td>-9.272987e-01</td>\n",
              "      <td>-3.080304e-01</td>\n",
              "      <td>-4.068554e-01</td>\n",
              "      <td>-2.090641e+00</td>\n",
              "      <td>-2.673313e+00</td>\n",
              "      <td>-2.904490e+00</td>\n",
              "      <td>-2.153591e+00</td>\n",
              "      <td>-5.024648e+00</td>\n",
              "      <td>-1.484040e+00</td>\n",
              "    </tr>\n",
              "    <tr>\n",
              "      <th>25%</th>\n",
              "      <td>2.000000</td>\n",
              "      <td>2.000000</td>\n",
              "      <td>1.000000</td>\n",
              "      <td>0.071429</td>\n",
              "      <td>-7.389663e-01</td>\n",
              "      <td>-9.272987e-01</td>\n",
              "      <td>-3.080304e-01</td>\n",
              "      <td>-4.068554e-01</td>\n",
              "      <td>-6.839987e-01</td>\n",
              "      <td>-5.380365e-01</td>\n",
              "      <td>-9.286425e-01</td>\n",
              "      <td>-4.363606e-01</td>\n",
              "      <td>2.391326e-01</td>\n",
              "      <td>-3.369417e-01</td>\n",
              "    </tr>\n",
              "    <tr>\n",
              "      <th>50%</th>\n",
              "      <td>2.000000</td>\n",
              "      <td>2.000000</td>\n",
              "      <td>3.000000</td>\n",
              "      <td>0.128205</td>\n",
              "      <td>-7.389663e-01</td>\n",
              "      <td>-3.413896e-01</td>\n",
              "      <td>-3.080304e-01</td>\n",
              "      <td>-4.068554e-01</td>\n",
              "      <td>3.555408e-02</td>\n",
              "      <td>1.105382e-01</td>\n",
              "      <td>2.635291e-01</td>\n",
              "      <td>-4.363606e-01</td>\n",
              "      <td>2.391326e-01</td>\n",
              "      <td>-3.369417e-01</td>\n",
              "    </tr>\n",
              "    <tr>\n",
              "      <th>75%</th>\n",
              "      <td>3.000000</td>\n",
              "      <td>2.000000</td>\n",
              "      <td>4.000000</td>\n",
              "      <td>0.250000</td>\n",
              "      <td>6.346486e-01</td>\n",
              "      <td>9.151671e-01</td>\n",
              "      <td>-3.080304e-01</td>\n",
              "      <td>-4.068554e-01</td>\n",
              "      <td>6.860894e-01</td>\n",
              "      <td>6.779522e-01</td>\n",
              "      <td>9.719837e-01</td>\n",
              "      <td>-4.363606e-01</td>\n",
              "      <td>2.391326e-01</td>\n",
              "      <td>5.622396e-01</td>\n",
              "    </tr>\n",
              "    <tr>\n",
              "      <th>max</th>\n",
              "      <td>8.000000</td>\n",
              "      <td>13.000000</td>\n",
              "      <td>9.000000</td>\n",
              "      <td>1.000000</td>\n",
              "      <td>3.134370e+00</td>\n",
              "      <td>2.942167e+00</td>\n",
              "      <td>4.020023e+00</td>\n",
              "      <td>3.891605e+00</td>\n",
              "      <td>3.067697e+00</td>\n",
              "      <td>2.689557e+00</td>\n",
              "      <td>9.719837e-01</td>\n",
              "      <td>3.561594e+00</td>\n",
              "      <td>2.391326e-01</td>\n",
              "      <td>1.970687e+00</td>\n",
              "    </tr>\n",
              "  </tbody>\n",
              "</table>\n",
              "</div>\n",
              "      <button class=\"colab-df-convert\" onclick=\"convertToInteractive('df-bf4d9ccf-cbb8-4b99-a9bb-c4ba046b12b7')\"\n",
              "              title=\"Convert this dataframe to an interactive table.\"\n",
              "              style=\"display:none;\">\n",
              "        \n",
              "  <svg xmlns=\"http://www.w3.org/2000/svg\" height=\"24px\"viewBox=\"0 0 24 24\"\n",
              "       width=\"24px\">\n",
              "    <path d=\"M0 0h24v24H0V0z\" fill=\"none\"/>\n",
              "    <path d=\"M18.56 5.44l.94 2.06.94-2.06 2.06-.94-2.06-.94-.94-2.06-.94 2.06-2.06.94zm-11 1L8.5 8.5l.94-2.06 2.06-.94-2.06-.94L8.5 2.5l-.94 2.06-2.06.94zm10 10l.94 2.06.94-2.06 2.06-.94-2.06-.94-.94-2.06-.94 2.06-2.06.94z\"/><path d=\"M17.41 7.96l-1.37-1.37c-.4-.4-.92-.59-1.43-.59-.52 0-1.04.2-1.43.59L10.3 9.45l-7.72 7.72c-.78.78-.78 2.05 0 2.83L4 21.41c.39.39.9.59 1.41.59.51 0 1.02-.2 1.41-.59l7.78-7.78 2.81-2.81c.8-.78.8-2.07 0-2.86zM5.41 20L4 18.59l7.72-7.72 1.47 1.35L5.41 20z\"/>\n",
              "  </svg>\n",
              "      </button>\n",
              "      \n",
              "  <style>\n",
              "    .colab-df-container {\n",
              "      display:flex;\n",
              "      flex-wrap:wrap;\n",
              "      gap: 12px;\n",
              "    }\n",
              "\n",
              "    .colab-df-convert {\n",
              "      background-color: #E8F0FE;\n",
              "      border: none;\n",
              "      border-radius: 50%;\n",
              "      cursor: pointer;\n",
              "      display: none;\n",
              "      fill: #1967D2;\n",
              "      height: 32px;\n",
              "      padding: 0 0 0 0;\n",
              "      width: 32px;\n",
              "    }\n",
              "\n",
              "    .colab-df-convert:hover {\n",
              "      background-color: #E2EBFA;\n",
              "      box-shadow: 0px 1px 2px rgba(60, 64, 67, 0.3), 0px 1px 3px 1px rgba(60, 64, 67, 0.15);\n",
              "      fill: #174EA6;\n",
              "    }\n",
              "\n",
              "    [theme=dark] .colab-df-convert {\n",
              "      background-color: #3B4455;\n",
              "      fill: #D2E3FC;\n",
              "    }\n",
              "\n",
              "    [theme=dark] .colab-df-convert:hover {\n",
              "      background-color: #434B5C;\n",
              "      box-shadow: 0px 1px 3px 1px rgba(0, 0, 0, 0.15);\n",
              "      filter: drop-shadow(0px 1px 2px rgba(0, 0, 0, 0.3));\n",
              "      fill: #FFFFFF;\n",
              "    }\n",
              "  </style>\n",
              "\n",
              "      <script>\n",
              "        const buttonEl =\n",
              "          document.querySelector('#df-bf4d9ccf-cbb8-4b99-a9bb-c4ba046b12b7 button.colab-df-convert');\n",
              "        buttonEl.style.display =\n",
              "          google.colab.kernel.accessAllowed ? 'block' : 'none';\n",
              "\n",
              "        async function convertToInteractive(key) {\n",
              "          const element = document.querySelector('#df-bf4d9ccf-cbb8-4b99-a9bb-c4ba046b12b7');\n",
              "          const dataTable =\n",
              "            await google.colab.kernel.invokeFunction('convertToInteractive',\n",
              "                                                     [key], {});\n",
              "          if (!dataTable) return;\n",
              "\n",
              "          const docLinkHtml = 'Like what you see? Visit the ' +\n",
              "            '<a target=\"_blank\" href=https://colab.research.google.com/notebooks/data_table.ipynb>data table notebook</a>'\n",
              "            + ' to learn more about interactive tables.';\n",
              "          element.innerHTML = '';\n",
              "          dataTable['output_type'] = 'display_data';\n",
              "          await google.colab.output.renderOutput(dataTable, element);\n",
              "          const docLink = document.createElement('div');\n",
              "          docLink.innerHTML = docLinkHtml;\n",
              "          element.appendChild(docLink);\n",
              "        }\n",
              "      </script>\n",
              "    </div>\n",
              "  </div>\n",
              "  "
            ]
          },
          "metadata": {},
          "execution_count": 28
        }
      ]
    },
    {
      "cell_type": "markdown",
      "source": [
        ""
      ],
      "metadata": {
        "id": "sDFTPoQ076r7"
      }
    },
    {
      "cell_type": "markdown",
      "source": [
        "## 1E. Feature Encoding"
      ],
      "metadata": {
        "id": "HUTiAiisXAQy"
      }
    },
    {
      "cell_type": "code",
      "source": [
        "cats = ['Month', 'VisitorType', 'Weekend', 'Revenue']\n",
        "\n",
        "for col in cats:\n",
        "  print(f'value counts of column {col}')\n",
        "  print(df[col].value_counts())\n",
        "  print('---'*10, '\\n')"
      ],
      "metadata": {
        "colab": {
          "base_uri": "https://localhost:8080/"
        },
        "id": "3Yi1P6cN4lUE",
        "outputId": "e79e4c51-18e5-4792-b313-9827bd4b33a6"
      },
      "execution_count": null,
      "outputs": [
        {
          "output_type": "stream",
          "name": "stdout",
          "text": [
            "value counts of column Month\n",
            "May     2793\n",
            "Nov     2703\n",
            "Mar     1759\n",
            "Dec     1564\n",
            "Oct      506\n",
            "Sep      412\n",
            "Jul      408\n",
            "Aug      405\n",
            "June     268\n",
            "Feb      144\n",
            "Name: Month, dtype: int64\n",
            "------------------------------ \n",
            "\n",
            "value counts of column VisitorType\n",
            "Returning_Visitor    9337\n",
            "New_Visitor          1556\n",
            "Other                  69\n",
            "Name: VisitorType, dtype: int64\n",
            "------------------------------ \n",
            "\n",
            "value counts of column Weekend\n",
            "False    8331\n",
            "True     2631\n",
            "Name: Weekend, dtype: int64\n",
            "------------------------------ \n",
            "\n",
            "value counts of column Revenue\n",
            "False    9434\n",
            "True     1528\n",
            "Name: Revenue, dtype: int64\n",
            "------------------------------ \n",
            "\n"
          ]
        }
      ]
    },
    {
      "cell_type": "markdown",
      "source": [
        "Strategi encoding\n",
        "* `Weekend`, `Revenue` \\: label encoding\n",
        "* `VisitorType`, `Month` \\: One Hot Encoding "
      ],
      "metadata": {
        "id": "ZYrIuxL-Yb31"
      }
    },
    {
      "cell_type": "code",
      "source": [
        "df['Revenue'] = df['Revenue'].astype(int)\n",
        "df['Revenue'].value_counts()"
      ],
      "metadata": {
        "colab": {
          "base_uri": "https://localhost:8080/"
        },
        "id": "vSr8xzwZjOAU",
        "outputId": "6530e9f6-ec2a-401a-a1b1-29ab3b3719b7"
      },
      "execution_count": null,
      "outputs": [
        {
          "output_type": "execute_result",
          "data": {
            "text/plain": [
              "0    9434\n",
              "1    1528\n",
              "Name: Revenue, dtype: int64"
            ]
          },
          "metadata": {},
          "execution_count": 30
        }
      ]
    },
    {
      "cell_type": "code",
      "source": [
        "df['Weekend'] = df['Weekend'].astype(int)\n",
        "df['Weekend'].value_counts()"
      ],
      "metadata": {
        "colab": {
          "base_uri": "https://localhost:8080/"
        },
        "id": "D8L9jYdPjc4Q",
        "outputId": "75e779a7-8a27-490d-95bc-ed666b6f3d27"
      },
      "execution_count": null,
      "outputs": [
        {
          "output_type": "execute_result",
          "data": {
            "text/plain": [
              "0    8331\n",
              "1    2631\n",
              "Name: Weekend, dtype: int64"
            ]
          },
          "metadata": {},
          "execution_count": 31
        }
      ]
    },
    {
      "cell_type": "code",
      "source": [
        "# One hot encoder pekerjaan dan sampo\n",
        "# WARNING: run code ini sekali saja\n",
        "for cat in ['VisitorType', 'Month']:\n",
        "    onehots = pd.get_dummies(df[cat], prefix=cat)\n",
        "    df = df.join(onehots)"
      ],
      "metadata": {
        "id": "qPsba8S9Yact"
      },
      "execution_count": null,
      "outputs": []
    },
    {
      "cell_type": "code",
      "source": [
        "# drop kolom visitortype dan month yang asli (karena sudah di-encoding)\n",
        "df = df.drop(columns=['VisitorType','Month'])"
      ],
      "metadata": {
        "id": "-YE2FsUSZd3R"
      },
      "execution_count": null,
      "outputs": []
    },
    {
      "cell_type": "code",
      "source": [
        "df.info()"
      ],
      "metadata": {
        "colab": {
          "base_uri": "https://localhost:8080/"
        },
        "id": "mm8hLDNIeB3A",
        "outputId": "37669534-3d79-4403-a7ca-de7f5a7a3199"
      },
      "execution_count": null,
      "outputs": [
        {
          "output_type": "stream",
          "name": "stdout",
          "text": [
            "<class 'pandas.core.frame.DataFrame'>\n",
            "Int64Index: 10962 entries, 0 to 12329\n",
            "Data columns (total 29 columns):\n",
            " #   Column                         Non-Null Count  Dtype  \n",
            "---  ------                         --------------  -----  \n",
            " 0   OperatingSystems               10962 non-null  int64  \n",
            " 1   Browser                        10962 non-null  int64  \n",
            " 2   Region                         10962 non-null  int64  \n",
            " 3   Weekend                        10962 non-null  int64  \n",
            " 4   Revenue                        10962 non-null  int64  \n",
            " 5   exitrates_norm                 10962 non-null  float64\n",
            " 6   administrative_std             10962 non-null  float64\n",
            " 7   administrativeduration_std     10962 non-null  float64\n",
            " 8   informational_std              10962 non-null  float64\n",
            " 9   informationalduration_std      10962 non-null  float64\n",
            " 10  productrelated_std             10962 non-null  float64\n",
            " 11  productrelatedduration_std     10962 non-null  float64\n",
            " 12  bouncerates_std                10962 non-null  float64\n",
            " 13  pagevalues_std                 10962 non-null  float64\n",
            " 14  specialday_std                 10962 non-null  float64\n",
            " 15  traffictype_std                10962 non-null  float64\n",
            " 16  VisitorType_New_Visitor        10962 non-null  uint8  \n",
            " 17  VisitorType_Other              10962 non-null  uint8  \n",
            " 18  VisitorType_Returning_Visitor  10962 non-null  uint8  \n",
            " 19  Month_Aug                      10962 non-null  uint8  \n",
            " 20  Month_Dec                      10962 non-null  uint8  \n",
            " 21  Month_Feb                      10962 non-null  uint8  \n",
            " 22  Month_Jul                      10962 non-null  uint8  \n",
            " 23  Month_June                     10962 non-null  uint8  \n",
            " 24  Month_Mar                      10962 non-null  uint8  \n",
            " 25  Month_May                      10962 non-null  uint8  \n",
            " 26  Month_Nov                      10962 non-null  uint8  \n",
            " 27  Month_Oct                      10962 non-null  uint8  \n",
            " 28  Month_Sep                      10962 non-null  uint8  \n",
            "dtypes: float64(11), int64(5), uint8(13)\n",
            "memory usage: 1.8 MB\n"
          ]
        }
      ]
    },
    {
      "cell_type": "markdown",
      "source": [
        "## 1F. Handle class imbalance"
      ],
      "metadata": {
        "id": "SL1XbVdDazXO"
      }
    },
    {
      "cell_type": "code",
      "source": [
        "# pembuatan binary label target yang imbalance (sebagai contoh)\n",
        "df['revenue_class'] = df['Revenue'] > 0.8\n",
        "df['revenue_class'].value_counts()"
      ],
      "metadata": {
        "colab": {
          "base_uri": "https://localhost:8080/"
        },
        "id": "Fysyz99-ad6i",
        "outputId": "99ec1bcd-44e8-42cc-f8e5-94bab181d26b"
      },
      "execution_count": null,
      "outputs": [
        {
          "output_type": "execute_result",
          "data": {
            "text/plain": [
              "False    9434\n",
              "True     1528\n",
              "Name: revenue_class, dtype: int64"
            ]
          },
          "metadata": {},
          "execution_count": 35
        }
      ]
    },
    {
      "cell_type": "code",
      "source": [
        "# pemisahan features vs target\n",
        "X = df[[col for col in df.columns if (str(df[col].dtype) != 'object') and col not in ['Revenue', 'revenue_class']]]\n",
        "y = df['revenue_class'].values\n",
        "print(X.shape)\n",
        "print(y.shape)"
      ],
      "metadata": {
        "colab": {
          "base_uri": "https://localhost:8080/"
        },
        "id": "3YkuH3bQdyRB",
        "outputId": "ef470d05-be97-4cc8-ae34-b021da59a130"
      },
      "execution_count": null,
      "outputs": [
        {
          "output_type": "stream",
          "name": "stdout",
          "text": [
            "(10962, 28)\n",
            "(10962,)\n"
          ]
        }
      ]
    },
    {
      "cell_type": "code",
      "source": [
        "from imblearn import under_sampling, over_sampling\n",
        "X_under, y_under = under_sampling.RandomUnderSampler(0.5).fit_resample(X, y)\n",
        "X_over, y_over = over_sampling.RandomOverSampler(0.5).fit_resample(X, y)\n",
        "X_over_SMOTE, y_over_SMOTE = over_sampling.SMOTE(0.5).fit_resample(X, y)"
      ],
      "metadata": {
        "colab": {
          "base_uri": "https://localhost:8080/"
        },
        "id": "WqDe3sNUeThC",
        "outputId": "083b1e93-8a91-462c-d59a-155d8cfee5bb"
      },
      "execution_count": null,
      "outputs": [
        {
          "output_type": "stream",
          "name": "stderr",
          "text": [
            "/usr/local/lib/python3.7/dist-packages/imblearn/utils/_validation.py:591: FutureWarning: Pass sampling_strategy=0.5 as keyword args. From version 0.9 passing these as positional arguments will result in an error\n",
            "  FutureWarning,\n",
            "/usr/local/lib/python3.7/dist-packages/imblearn/utils/_validation.py:591: FutureWarning: Pass sampling_strategy=0.5 as keyword args. From version 0.9 passing these as positional arguments will result in an error\n",
            "  FutureWarning,\n",
            "/usr/local/lib/python3.7/dist-packages/imblearn/utils/_validation.py:591: FutureWarning: Pass sampling_strategy=0.5 as keyword args. From version 0.9 passing these as positional arguments will result in an error\n",
            "  FutureWarning,\n"
          ]
        }
      ]
    },
    {
      "cell_type": "code",
      "source": [
        "print('Original')\n",
        "print(pd.Series(y).value_counts())\n",
        "print('\\n')\n",
        "print('OVERSAMPLING')\n",
        "print(pd.Series(y_over).value_counts())\n",
        "print('\\n')\n",
        "print('SMOTE')\n",
        "print(pd.Series(y_over_SMOTE).value_counts())"
      ],
      "metadata": {
        "colab": {
          "base_uri": "https://localhost:8080/"
        },
        "id": "aQtCrKMreWgM",
        "outputId": "3dcc64c2-c7f5-4b04-85ec-85b1ea54168b"
      },
      "execution_count": null,
      "outputs": [
        {
          "output_type": "stream",
          "name": "stdout",
          "text": [
            "Original\n",
            "False    9434\n",
            "True     1528\n",
            "dtype: int64\n",
            "\n",
            "\n",
            "OVERSAMPLING\n",
            "False    9434\n",
            "True     4717\n",
            "dtype: int64\n",
            "\n",
            "\n",
            "SMOTE\n",
            "False    9434\n",
            "True     4717\n",
            "dtype: int64\n"
          ]
        }
      ]
    },
    {
      "cell_type": "code",
      "source": [
        "df.info()"
      ],
      "metadata": {
        "colab": {
          "base_uri": "https://localhost:8080/"
        },
        "id": "D_w6gjuYMYGh",
        "outputId": "aec5d4da-9fd0-4b29-d7ea-86ba33176391"
      },
      "execution_count": null,
      "outputs": [
        {
          "output_type": "stream",
          "name": "stdout",
          "text": [
            "<class 'pandas.core.frame.DataFrame'>\n",
            "Int64Index: 10962 entries, 0 to 12329\n",
            "Data columns (total 30 columns):\n",
            " #   Column                         Non-Null Count  Dtype  \n",
            "---  ------                         --------------  -----  \n",
            " 0   OperatingSystems               10962 non-null  int64  \n",
            " 1   Browser                        10962 non-null  int64  \n",
            " 2   Region                         10962 non-null  int64  \n",
            " 3   Weekend                        10962 non-null  int64  \n",
            " 4   Revenue                        10962 non-null  int64  \n",
            " 5   exitrates_norm                 10962 non-null  float64\n",
            " 6   administrative_std             10962 non-null  float64\n",
            " 7   administrativeduration_std     10962 non-null  float64\n",
            " 8   informational_std              10962 non-null  float64\n",
            " 9   informationalduration_std      10962 non-null  float64\n",
            " 10  productrelated_std             10962 non-null  float64\n",
            " 11  productrelatedduration_std     10962 non-null  float64\n",
            " 12  bouncerates_std                10962 non-null  float64\n",
            " 13  pagevalues_std                 10962 non-null  float64\n",
            " 14  specialday_std                 10962 non-null  float64\n",
            " 15  traffictype_std                10962 non-null  float64\n",
            " 16  VisitorType_New_Visitor        10962 non-null  uint8  \n",
            " 17  VisitorType_Other              10962 non-null  uint8  \n",
            " 18  VisitorType_Returning_Visitor  10962 non-null  uint8  \n",
            " 19  Month_Aug                      10962 non-null  uint8  \n",
            " 20  Month_Dec                      10962 non-null  uint8  \n",
            " 21  Month_Feb                      10962 non-null  uint8  \n",
            " 22  Month_Jul                      10962 non-null  uint8  \n",
            " 23  Month_June                     10962 non-null  uint8  \n",
            " 24  Month_Mar                      10962 non-null  uint8  \n",
            " 25  Month_May                      10962 non-null  uint8  \n",
            " 26  Month_Nov                      10962 non-null  uint8  \n",
            " 27  Month_Oct                      10962 non-null  uint8  \n",
            " 28  Month_Sep                      10962 non-null  uint8  \n",
            " 29  revenue_class                  10962 non-null  bool   \n",
            "dtypes: bool(1), float64(11), int64(5), uint8(13)\n",
            "memory usage: 1.8 MB\n"
          ]
        }
      ]
    },
    {
      "cell_type": "markdown",
      "source": [
        "## 2A. Feature selection"
      ],
      "metadata": {
        "id": "1-kQH9J7e2G-"
      }
    },
    {
      "cell_type": "code",
      "source": [
        ""
      ],
      "metadata": {
        "id": "E33mQVSxmcCL"
      },
      "execution_count": null,
      "outputs": []
    },
    {
      "cell_type": "code",
      "source": [
        "df3 = df.drop(columns=['productrelatedduration_std', 'bouncerates_std'])"
      ],
      "metadata": {
        "id": "s-B_bmhXLVZo"
      },
      "execution_count": null,
      "outputs": []
    },
    {
      "cell_type": "code",
      "source": [
        "df3.info()"
      ],
      "metadata": {
        "colab": {
          "base_uri": "https://localhost:8080/"
        },
        "id": "FXcUGtWuMn87",
        "outputId": "15170914-0a36-4314-a973-cea82d5cb925"
      },
      "execution_count": null,
      "outputs": [
        {
          "output_type": "stream",
          "name": "stdout",
          "text": [
            "<class 'pandas.core.frame.DataFrame'>\n",
            "Int64Index: 10962 entries, 0 to 12329\n",
            "Data columns (total 28 columns):\n",
            " #   Column                         Non-Null Count  Dtype  \n",
            "---  ------                         --------------  -----  \n",
            " 0   OperatingSystems               10962 non-null  int64  \n",
            " 1   Browser                        10962 non-null  int64  \n",
            " 2   Region                         10962 non-null  int64  \n",
            " 3   Weekend                        10962 non-null  int64  \n",
            " 4   Revenue                        10962 non-null  int64  \n",
            " 5   exitrates_norm                 10962 non-null  float64\n",
            " 6   administrative_std             10962 non-null  float64\n",
            " 7   administrativeduration_std     10962 non-null  float64\n",
            " 8   informational_std              10962 non-null  float64\n",
            " 9   informationalduration_std      10962 non-null  float64\n",
            " 10  productrelated_std             10962 non-null  float64\n",
            " 11  pagevalues_std                 10962 non-null  float64\n",
            " 12  specialday_std                 10962 non-null  float64\n",
            " 13  traffictype_std                10962 non-null  float64\n",
            " 14  VisitorType_New_Visitor        10962 non-null  uint8  \n",
            " 15  VisitorType_Other              10962 non-null  uint8  \n",
            " 16  VisitorType_Returning_Visitor  10962 non-null  uint8  \n",
            " 17  Month_Aug                      10962 non-null  uint8  \n",
            " 18  Month_Dec                      10962 non-null  uint8  \n",
            " 19  Month_Feb                      10962 non-null  uint8  \n",
            " 20  Month_Jul                      10962 non-null  uint8  \n",
            " 21  Month_June                     10962 non-null  uint8  \n",
            " 22  Month_Mar                      10962 non-null  uint8  \n",
            " 23  Month_May                      10962 non-null  uint8  \n",
            " 24  Month_Nov                      10962 non-null  uint8  \n",
            " 25  Month_Oct                      10962 non-null  uint8  \n",
            " 26  Month_Sep                      10962 non-null  uint8  \n",
            " 27  revenue_class                  10962 non-null  bool   \n",
            "dtypes: bool(1), float64(9), int64(5), uint8(13)\n",
            "memory usage: 1.7 MB\n"
          ]
        }
      ]
    },
    {
      "cell_type": "markdown",
      "source": [
        "- Feature yang kurang relevan = OperatingSystem, Browser,Region,TrafficType, dan Weekend (karena r < 0.05)\n",
        "- Feature redundan = ProductRelated_Duration/ProductRelated, BounceRates/ExitRates (karena r>0.7)\n",
        "- Feature penyebab multicolinarity = Region, Month, VisitorType_Other"
      ],
      "metadata": {
        "id": "eI4r0mAMfPjU"
      }
    },
    {
      "cell_type": "markdown",
      "source": [
        "## 2B. Feature Extraction"
      ],
      "metadata": {
        "id": "YTZnAJrlgSHn"
      }
    },
    {
      "cell_type": "code",
      "source": [
        "df.loc[(df.Month == \"Jan\") | (df.Month == \"Feb\") | (df.Month == \"Mar\"), \"Kuartil\"] = 1\n",
        "df.loc[(df.Month == \"Apr\") | (df.Month == \"May\") | (df.Month == \"June\"), \"Kuartil\"] = 2\n",
        "df.loc[(df.Month == \"Jul\") | (df.Month == \"Aug\") | (df.Month == \"sep\"), \"Kuartil\"] = 3\n",
        "df.loc[(df.Month == \"Oct\") | (df.Month == \"Nov\") | (df.Month == \"Dec\"), \"Kuartil\"] = 4"
      ],
      "metadata": {
        "id": "mGeNQbrQUo_P"
      },
      "execution_count": null,
      "outputs": []
    },
    {
      "cell_type": "code",
      "source": [
        "Dalam dunia industri dan bisnis kategori kuartil digunakan untuk membuat laporan keuangan dengan membagi hasi total revenue per kuartil"
      ],
      "metadata": {
        "id": "q30NqDX0fwnq"
      },
      "execution_count": null,
      "outputs": []
    },
    {
      "cell_type": "markdown",
      "source": [
        "## 2C. Tambahan feature diluar dataset"
      ],
      "metadata": {
        "id": "VyOVNWFr8e-n"
      }
    },
    {
      "cell_type": "markdown",
      "source": [
        "- gender\n",
        "- usia\n",
        "- pekerjaan\n",
        "- pendidikan terakhir\n",
        "- harga\n",
        "- jumlah diskon/promo\n",
        "- metode pembayaran\n",
        "- Biaya kirim"
      ],
      "metadata": {
        "id": "rgKM6vpUhLpr"
      }
    },
    {
      "cell_type": "code",
      "source": [
        "df.info()"
      ],
      "metadata": {
        "id": "WfqVhs5-eksy",
        "colab": {
          "base_uri": "https://localhost:8080/"
        },
        "outputId": "17035185-c4fe-4343-adb7-6240ad5c0916"
      },
      "execution_count": null,
      "outputs": [
        {
          "output_type": "stream",
          "name": "stdout",
          "text": [
            "<class 'pandas.core.frame.DataFrame'>\n",
            "Int64Index: 10962 entries, 0 to 12329\n",
            "Data columns (total 30 columns):\n",
            " #   Column                         Non-Null Count  Dtype  \n",
            "---  ------                         --------------  -----  \n",
            " 0   OperatingSystems               10962 non-null  int64  \n",
            " 1   Browser                        10962 non-null  int64  \n",
            " 2   Region                         10962 non-null  int64  \n",
            " 3   Weekend                        10962 non-null  int64  \n",
            " 4   Revenue                        10962 non-null  int64  \n",
            " 5   exitrates_norm                 10962 non-null  float64\n",
            " 6   administrative_std             10962 non-null  float64\n",
            " 7   administrativeduration_std     10962 non-null  float64\n",
            " 8   informational_std              10962 non-null  float64\n",
            " 9   informationalduration_std      10962 non-null  float64\n",
            " 10  productrelated_std             10962 non-null  float64\n",
            " 11  productrelatedduration_std     10962 non-null  float64\n",
            " 12  bouncerates_std                10962 non-null  float64\n",
            " 13  pagevalues_std                 10962 non-null  float64\n",
            " 14  specialday_std                 10962 non-null  float64\n",
            " 15  traffictype_std                10962 non-null  float64\n",
            " 16  VisitorType_New_Visitor        10962 non-null  uint8  \n",
            " 17  VisitorType_Other              10962 non-null  uint8  \n",
            " 18  VisitorType_Returning_Visitor  10962 non-null  uint8  \n",
            " 19  Month_Aug                      10962 non-null  uint8  \n",
            " 20  Month_Dec                      10962 non-null  uint8  \n",
            " 21  Month_Feb                      10962 non-null  uint8  \n",
            " 22  Month_Jul                      10962 non-null  uint8  \n",
            " 23  Month_June                     10962 non-null  uint8  \n",
            " 24  Month_Mar                      10962 non-null  uint8  \n",
            " 25  Month_May                      10962 non-null  uint8  \n",
            " 26  Month_Nov                      10962 non-null  uint8  \n",
            " 27  Month_Oct                      10962 non-null  uint8  \n",
            " 28  Month_Sep                      10962 non-null  uint8  \n",
            " 29  revenue_class                  10962 non-null  bool   \n",
            "dtypes: bool(1), float64(11), int64(5), uint8(13)\n",
            "memory usage: 1.8 MB\n"
          ]
        }
      ]
    },
    {
      "cell_type": "code",
      "source": [
        ""
      ],
      "metadata": {
        "id": "ULSEns-t-TDa"
      },
      "execution_count": null,
      "outputs": []
    }
  ]
}